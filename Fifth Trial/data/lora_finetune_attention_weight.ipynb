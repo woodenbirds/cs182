{
  "nbformat": 4,
  "nbformat_minor": 0,
  "metadata": {
    "colab": {
      "provenance": [],
      "gpuType": "T4"
    },
    "kernelspec": {
      "name": "python3",
      "display_name": "Python 3"
    },
    "language_info": {
      "name": "python"
    },
    "accelerator": "GPU",
    "widgets": {
      "application/vnd.jupyter.widget-state+json": {
        "a675df7fedef4becba83b12c6ed64220": {
          "model_module": "@jupyter-widgets/controls",
          "model_name": "VBoxModel",
          "model_module_version": "1.5.0",
          "state": {
            "_dom_classes": [],
            "_model_module": "@jupyter-widgets/controls",
            "_model_module_version": "1.5.0",
            "_model_name": "VBoxModel",
            "_view_count": null,
            "_view_module": "@jupyter-widgets/controls",
            "_view_module_version": "1.5.0",
            "_view_name": "VBoxView",
            "box_style": "",
            "children": [
              "IPY_MODEL_1d939bc30d344e4e826c60e72482da47",
              "IPY_MODEL_b07c6dc3b5d248bc88f8284e140d897c"
            ],
            "layout": "IPY_MODEL_e01c81f3dfbf43ca8a18165febc89017"
          }
        },
        "1d939bc30d344e4e826c60e72482da47": {
          "model_module": "@jupyter-widgets/controls",
          "model_name": "LabelModel",
          "model_module_version": "1.5.0",
          "state": {
            "_dom_classes": [],
            "_model_module": "@jupyter-widgets/controls",
            "_model_module_version": "1.5.0",
            "_model_name": "LabelModel",
            "_view_count": null,
            "_view_module": "@jupyter-widgets/controls",
            "_view_module_version": "1.5.0",
            "_view_name": "LabelView",
            "description": "",
            "description_tooltip": null,
            "layout": "IPY_MODEL_93d243318a354ef28970daf4be8aeee7",
            "placeholder": "​",
            "style": "IPY_MODEL_6e19cc7f5aa9409f96f34d74b1f80e3f",
            "value": "6.757 MB of 6.757 MB uploaded\r"
          }
        },
        "b07c6dc3b5d248bc88f8284e140d897c": {
          "model_module": "@jupyter-widgets/controls",
          "model_name": "FloatProgressModel",
          "model_module_version": "1.5.0",
          "state": {
            "_dom_classes": [],
            "_model_module": "@jupyter-widgets/controls",
            "_model_module_version": "1.5.0",
            "_model_name": "FloatProgressModel",
            "_view_count": null,
            "_view_module": "@jupyter-widgets/controls",
            "_view_module_version": "1.5.0",
            "_view_name": "ProgressView",
            "bar_style": "",
            "description": "",
            "description_tooltip": null,
            "layout": "IPY_MODEL_dc777eb9a7a546588509f68ab457b0d3",
            "max": 1,
            "min": 0,
            "orientation": "horizontal",
            "style": "IPY_MODEL_0c0e75a775b34be493161a12f4f56770",
            "value": 1
          }
        },
        "e01c81f3dfbf43ca8a18165febc89017": {
          "model_module": "@jupyter-widgets/base",
          "model_name": "LayoutModel",
          "model_module_version": "1.2.0",
          "state": {
            "_model_module": "@jupyter-widgets/base",
            "_model_module_version": "1.2.0",
            "_model_name": "LayoutModel",
            "_view_count": null,
            "_view_module": "@jupyter-widgets/base",
            "_view_module_version": "1.2.0",
            "_view_name": "LayoutView",
            "align_content": null,
            "align_items": null,
            "align_self": null,
            "border": null,
            "bottom": null,
            "display": null,
            "flex": null,
            "flex_flow": null,
            "grid_area": null,
            "grid_auto_columns": null,
            "grid_auto_flow": null,
            "grid_auto_rows": null,
            "grid_column": null,
            "grid_gap": null,
            "grid_row": null,
            "grid_template_areas": null,
            "grid_template_columns": null,
            "grid_template_rows": null,
            "height": null,
            "justify_content": null,
            "justify_items": null,
            "left": null,
            "margin": null,
            "max_height": null,
            "max_width": null,
            "min_height": null,
            "min_width": null,
            "object_fit": null,
            "object_position": null,
            "order": null,
            "overflow": null,
            "overflow_x": null,
            "overflow_y": null,
            "padding": null,
            "right": null,
            "top": null,
            "visibility": null,
            "width": null
          }
        },
        "93d243318a354ef28970daf4be8aeee7": {
          "model_module": "@jupyter-widgets/base",
          "model_name": "LayoutModel",
          "model_module_version": "1.2.0",
          "state": {
            "_model_module": "@jupyter-widgets/base",
            "_model_module_version": "1.2.0",
            "_model_name": "LayoutModel",
            "_view_count": null,
            "_view_module": "@jupyter-widgets/base",
            "_view_module_version": "1.2.0",
            "_view_name": "LayoutView",
            "align_content": null,
            "align_items": null,
            "align_self": null,
            "border": null,
            "bottom": null,
            "display": null,
            "flex": null,
            "flex_flow": null,
            "grid_area": null,
            "grid_auto_columns": null,
            "grid_auto_flow": null,
            "grid_auto_rows": null,
            "grid_column": null,
            "grid_gap": null,
            "grid_row": null,
            "grid_template_areas": null,
            "grid_template_columns": null,
            "grid_template_rows": null,
            "height": null,
            "justify_content": null,
            "justify_items": null,
            "left": null,
            "margin": null,
            "max_height": null,
            "max_width": null,
            "min_height": null,
            "min_width": null,
            "object_fit": null,
            "object_position": null,
            "order": null,
            "overflow": null,
            "overflow_x": null,
            "overflow_y": null,
            "padding": null,
            "right": null,
            "top": null,
            "visibility": null,
            "width": null
          }
        },
        "6e19cc7f5aa9409f96f34d74b1f80e3f": {
          "model_module": "@jupyter-widgets/controls",
          "model_name": "DescriptionStyleModel",
          "model_module_version": "1.5.0",
          "state": {
            "_model_module": "@jupyter-widgets/controls",
            "_model_module_version": "1.5.0",
            "_model_name": "DescriptionStyleModel",
            "_view_count": null,
            "_view_module": "@jupyter-widgets/base",
            "_view_module_version": "1.2.0",
            "_view_name": "StyleView",
            "description_width": ""
          }
        },
        "dc777eb9a7a546588509f68ab457b0d3": {
          "model_module": "@jupyter-widgets/base",
          "model_name": "LayoutModel",
          "model_module_version": "1.2.0",
          "state": {
            "_model_module": "@jupyter-widgets/base",
            "_model_module_version": "1.2.0",
            "_model_name": "LayoutModel",
            "_view_count": null,
            "_view_module": "@jupyter-widgets/base",
            "_view_module_version": "1.2.0",
            "_view_name": "LayoutView",
            "align_content": null,
            "align_items": null,
            "align_self": null,
            "border": null,
            "bottom": null,
            "display": null,
            "flex": null,
            "flex_flow": null,
            "grid_area": null,
            "grid_auto_columns": null,
            "grid_auto_flow": null,
            "grid_auto_rows": null,
            "grid_column": null,
            "grid_gap": null,
            "grid_row": null,
            "grid_template_areas": null,
            "grid_template_columns": null,
            "grid_template_rows": null,
            "height": null,
            "justify_content": null,
            "justify_items": null,
            "left": null,
            "margin": null,
            "max_height": null,
            "max_width": null,
            "min_height": null,
            "min_width": null,
            "object_fit": null,
            "object_position": null,
            "order": null,
            "overflow": null,
            "overflow_x": null,
            "overflow_y": null,
            "padding": null,
            "right": null,
            "top": null,
            "visibility": null,
            "width": null
          }
        },
        "0c0e75a775b34be493161a12f4f56770": {
          "model_module": "@jupyter-widgets/controls",
          "model_name": "ProgressStyleModel",
          "model_module_version": "1.5.0",
          "state": {
            "_model_module": "@jupyter-widgets/controls",
            "_model_module_version": "1.5.0",
            "_model_name": "ProgressStyleModel",
            "_view_count": null,
            "_view_module": "@jupyter-widgets/base",
            "_view_module_version": "1.2.0",
            "_view_name": "StyleView",
            "bar_color": null,
            "description_width": ""
          }
        },
        "103b8bf75ff14eb7ab883e99f67b9c3f": {
          "model_module": "@jupyter-widgets/controls",
          "model_name": "VBoxModel",
          "model_module_version": "1.5.0",
          "state": {
            "_dom_classes": [],
            "_model_module": "@jupyter-widgets/controls",
            "_model_module_version": "1.5.0",
            "_model_name": "VBoxModel",
            "_view_count": null,
            "_view_module": "@jupyter-widgets/controls",
            "_view_module_version": "1.5.0",
            "_view_name": "VBoxView",
            "box_style": "",
            "children": [
              "IPY_MODEL_7391622ad2224830a58707cec303de31",
              "IPY_MODEL_34a1d6c4289947b39bfef17dd929c203"
            ],
            "layout": "IPY_MODEL_8081e5de2fdc4a399fc38dd3cbb79bbb"
          }
        },
        "7391622ad2224830a58707cec303de31": {
          "model_module": "@jupyter-widgets/controls",
          "model_name": "LabelModel",
          "model_module_version": "1.5.0",
          "state": {
            "_dom_classes": [],
            "_model_module": "@jupyter-widgets/controls",
            "_model_module_version": "1.5.0",
            "_model_name": "LabelModel",
            "_view_count": null,
            "_view_module": "@jupyter-widgets/controls",
            "_view_module_version": "1.5.0",
            "_view_name": "LabelView",
            "description": "",
            "description_tooltip": null,
            "layout": "IPY_MODEL_f4bbc5168449445999060e09e178e7dd",
            "placeholder": "​",
            "style": "IPY_MODEL_490e9b7d89534004a254fa587d2ba025",
            "value": "0.012 MB of 0.012 MB uploaded\r"
          }
        },
        "34a1d6c4289947b39bfef17dd929c203": {
          "model_module": "@jupyter-widgets/controls",
          "model_name": "FloatProgressModel",
          "model_module_version": "1.5.0",
          "state": {
            "_dom_classes": [],
            "_model_module": "@jupyter-widgets/controls",
            "_model_module_version": "1.5.0",
            "_model_name": "FloatProgressModel",
            "_view_count": null,
            "_view_module": "@jupyter-widgets/controls",
            "_view_module_version": "1.5.0",
            "_view_name": "ProgressView",
            "bar_style": "",
            "description": "",
            "description_tooltip": null,
            "layout": "IPY_MODEL_5d141cb100cb4c70a032a1a18eb71cd6",
            "max": 1,
            "min": 0,
            "orientation": "horizontal",
            "style": "IPY_MODEL_8223df766c4949b582082d056f81b921",
            "value": 1
          }
        },
        "8081e5de2fdc4a399fc38dd3cbb79bbb": {
          "model_module": "@jupyter-widgets/base",
          "model_name": "LayoutModel",
          "model_module_version": "1.2.0",
          "state": {
            "_model_module": "@jupyter-widgets/base",
            "_model_module_version": "1.2.0",
            "_model_name": "LayoutModel",
            "_view_count": null,
            "_view_module": "@jupyter-widgets/base",
            "_view_module_version": "1.2.0",
            "_view_name": "LayoutView",
            "align_content": null,
            "align_items": null,
            "align_self": null,
            "border": null,
            "bottom": null,
            "display": null,
            "flex": null,
            "flex_flow": null,
            "grid_area": null,
            "grid_auto_columns": null,
            "grid_auto_flow": null,
            "grid_auto_rows": null,
            "grid_column": null,
            "grid_gap": null,
            "grid_row": null,
            "grid_template_areas": null,
            "grid_template_columns": null,
            "grid_template_rows": null,
            "height": null,
            "justify_content": null,
            "justify_items": null,
            "left": null,
            "margin": null,
            "max_height": null,
            "max_width": null,
            "min_height": null,
            "min_width": null,
            "object_fit": null,
            "object_position": null,
            "order": null,
            "overflow": null,
            "overflow_x": null,
            "overflow_y": null,
            "padding": null,
            "right": null,
            "top": null,
            "visibility": null,
            "width": null
          }
        },
        "f4bbc5168449445999060e09e178e7dd": {
          "model_module": "@jupyter-widgets/base",
          "model_name": "LayoutModel",
          "model_module_version": "1.2.0",
          "state": {
            "_model_module": "@jupyter-widgets/base",
            "_model_module_version": "1.2.0",
            "_model_name": "LayoutModel",
            "_view_count": null,
            "_view_module": "@jupyter-widgets/base",
            "_view_module_version": "1.2.0",
            "_view_name": "LayoutView",
            "align_content": null,
            "align_items": null,
            "align_self": null,
            "border": null,
            "bottom": null,
            "display": null,
            "flex": null,
            "flex_flow": null,
            "grid_area": null,
            "grid_auto_columns": null,
            "grid_auto_flow": null,
            "grid_auto_rows": null,
            "grid_column": null,
            "grid_gap": null,
            "grid_row": null,
            "grid_template_areas": null,
            "grid_template_columns": null,
            "grid_template_rows": null,
            "height": null,
            "justify_content": null,
            "justify_items": null,
            "left": null,
            "margin": null,
            "max_height": null,
            "max_width": null,
            "min_height": null,
            "min_width": null,
            "object_fit": null,
            "object_position": null,
            "order": null,
            "overflow": null,
            "overflow_x": null,
            "overflow_y": null,
            "padding": null,
            "right": null,
            "top": null,
            "visibility": null,
            "width": null
          }
        },
        "490e9b7d89534004a254fa587d2ba025": {
          "model_module": "@jupyter-widgets/controls",
          "model_name": "DescriptionStyleModel",
          "model_module_version": "1.5.0",
          "state": {
            "_model_module": "@jupyter-widgets/controls",
            "_model_module_version": "1.5.0",
            "_model_name": "DescriptionStyleModel",
            "_view_count": null,
            "_view_module": "@jupyter-widgets/base",
            "_view_module_version": "1.2.0",
            "_view_name": "StyleView",
            "description_width": ""
          }
        },
        "5d141cb100cb4c70a032a1a18eb71cd6": {
          "model_module": "@jupyter-widgets/base",
          "model_name": "LayoutModel",
          "model_module_version": "1.2.0",
          "state": {
            "_model_module": "@jupyter-widgets/base",
            "_model_module_version": "1.2.0",
            "_model_name": "LayoutModel",
            "_view_count": null,
            "_view_module": "@jupyter-widgets/base",
            "_view_module_version": "1.2.0",
            "_view_name": "LayoutView",
            "align_content": null,
            "align_items": null,
            "align_self": null,
            "border": null,
            "bottom": null,
            "display": null,
            "flex": null,
            "flex_flow": null,
            "grid_area": null,
            "grid_auto_columns": null,
            "grid_auto_flow": null,
            "grid_auto_rows": null,
            "grid_column": null,
            "grid_gap": null,
            "grid_row": null,
            "grid_template_areas": null,
            "grid_template_columns": null,
            "grid_template_rows": null,
            "height": null,
            "justify_content": null,
            "justify_items": null,
            "left": null,
            "margin": null,
            "max_height": null,
            "max_width": null,
            "min_height": null,
            "min_width": null,
            "object_fit": null,
            "object_position": null,
            "order": null,
            "overflow": null,
            "overflow_x": null,
            "overflow_y": null,
            "padding": null,
            "right": null,
            "top": null,
            "visibility": null,
            "width": null
          }
        },
        "8223df766c4949b582082d056f81b921": {
          "model_module": "@jupyter-widgets/controls",
          "model_name": "ProgressStyleModel",
          "model_module_version": "1.5.0",
          "state": {
            "_model_module": "@jupyter-widgets/controls",
            "_model_module_version": "1.5.0",
            "_model_name": "ProgressStyleModel",
            "_view_count": null,
            "_view_module": "@jupyter-widgets/base",
            "_view_module_version": "1.2.0",
            "_view_name": "StyleView",
            "bar_color": null,
            "description_width": ""
          }
        },
        "c498cf12d76044ee9a887dcb8c58e7a0": {
          "model_module": "@jupyter-widgets/controls",
          "model_name": "HBoxModel",
          "model_module_version": "1.5.0",
          "state": {
            "_dom_classes": [],
            "_model_module": "@jupyter-widgets/controls",
            "_model_module_version": "1.5.0",
            "_model_name": "HBoxModel",
            "_view_count": null,
            "_view_module": "@jupyter-widgets/controls",
            "_view_module_version": "1.5.0",
            "_view_name": "HBoxView",
            "box_style": "",
            "children": [
              "IPY_MODEL_d1c883d72fed4cb7b8a5c96550349495",
              "IPY_MODEL_4ba518eed15641218b707fc46d865451",
              "IPY_MODEL_097cf8b6777f4810b8d104c5adc3fa84"
            ],
            "layout": "IPY_MODEL_66e9021533294e39a86a9471cd5d8642"
          }
        },
        "d1c883d72fed4cb7b8a5c96550349495": {
          "model_module": "@jupyter-widgets/controls",
          "model_name": "HTMLModel",
          "model_module_version": "1.5.0",
          "state": {
            "_dom_classes": [],
            "_model_module": "@jupyter-widgets/controls",
            "_model_module_version": "1.5.0",
            "_model_name": "HTMLModel",
            "_view_count": null,
            "_view_module": "@jupyter-widgets/controls",
            "_view_module_version": "1.5.0",
            "_view_name": "HTMLView",
            "description": "",
            "description_tooltip": null,
            "layout": "IPY_MODEL_f50e209cca9d4791aeaf8e1c0173f806",
            "placeholder": "​",
            "style": "IPY_MODEL_3807888cec1b40be802ea84dfcffdd23",
            "value": "Steps:   0%"
          }
        },
        "4ba518eed15641218b707fc46d865451": {
          "model_module": "@jupyter-widgets/controls",
          "model_name": "FloatProgressModel",
          "model_module_version": "1.5.0",
          "state": {
            "_dom_classes": [],
            "_model_module": "@jupyter-widgets/controls",
            "_model_module_version": "1.5.0",
            "_model_name": "FloatProgressModel",
            "_view_count": null,
            "_view_module": "@jupyter-widgets/controls",
            "_view_module_version": "1.5.0",
            "_view_name": "ProgressView",
            "bar_style": "",
            "description": "",
            "description_tooltip": null,
            "layout": "IPY_MODEL_2f1580400c954c13b839f3775a53c422",
            "max": 10000,
            "min": 0,
            "orientation": "horizontal",
            "style": "IPY_MODEL_5f6f2b3d6830490fb5197b451bfb162d",
            "value": 50
          }
        },
        "097cf8b6777f4810b8d104c5adc3fa84": {
          "model_module": "@jupyter-widgets/controls",
          "model_name": "HTMLModel",
          "model_module_version": "1.5.0",
          "state": {
            "_dom_classes": [],
            "_model_module": "@jupyter-widgets/controls",
            "_model_module_version": "1.5.0",
            "_model_name": "HTMLModel",
            "_view_count": null,
            "_view_module": "@jupyter-widgets/controls",
            "_view_module_version": "1.5.0",
            "_view_name": "HTMLView",
            "description": "",
            "description_tooltip": null,
            "layout": "IPY_MODEL_df54a120ef104e628a5b481e3f53af2f",
            "placeholder": "​",
            "style": "IPY_MODEL_e5e6cfb9273240ef96867f086db01541",
            "value": " 50/10000 [22:27&lt;69:12:18, 25.04s/it]"
          }
        },
        "66e9021533294e39a86a9471cd5d8642": {
          "model_module": "@jupyter-widgets/base",
          "model_name": "LayoutModel",
          "model_module_version": "1.2.0",
          "state": {
            "_model_module": "@jupyter-widgets/base",
            "_model_module_version": "1.2.0",
            "_model_name": "LayoutModel",
            "_view_count": null,
            "_view_module": "@jupyter-widgets/base",
            "_view_module_version": "1.2.0",
            "_view_name": "LayoutView",
            "align_content": null,
            "align_items": null,
            "align_self": null,
            "border": null,
            "bottom": null,
            "display": null,
            "flex": null,
            "flex_flow": null,
            "grid_area": null,
            "grid_auto_columns": null,
            "grid_auto_flow": null,
            "grid_auto_rows": null,
            "grid_column": null,
            "grid_gap": null,
            "grid_row": null,
            "grid_template_areas": null,
            "grid_template_columns": null,
            "grid_template_rows": null,
            "height": null,
            "justify_content": null,
            "justify_items": null,
            "left": null,
            "margin": null,
            "max_height": null,
            "max_width": null,
            "min_height": null,
            "min_width": null,
            "object_fit": null,
            "object_position": null,
            "order": null,
            "overflow": null,
            "overflow_x": null,
            "overflow_y": null,
            "padding": null,
            "right": null,
            "top": null,
            "visibility": null,
            "width": null
          }
        },
        "f50e209cca9d4791aeaf8e1c0173f806": {
          "model_module": "@jupyter-widgets/base",
          "model_name": "LayoutModel",
          "model_module_version": "1.2.0",
          "state": {
            "_model_module": "@jupyter-widgets/base",
            "_model_module_version": "1.2.0",
            "_model_name": "LayoutModel",
            "_view_count": null,
            "_view_module": "@jupyter-widgets/base",
            "_view_module_version": "1.2.0",
            "_view_name": "LayoutView",
            "align_content": null,
            "align_items": null,
            "align_self": null,
            "border": null,
            "bottom": null,
            "display": null,
            "flex": null,
            "flex_flow": null,
            "grid_area": null,
            "grid_auto_columns": null,
            "grid_auto_flow": null,
            "grid_auto_rows": null,
            "grid_column": null,
            "grid_gap": null,
            "grid_row": null,
            "grid_template_areas": null,
            "grid_template_columns": null,
            "grid_template_rows": null,
            "height": null,
            "justify_content": null,
            "justify_items": null,
            "left": null,
            "margin": null,
            "max_height": null,
            "max_width": null,
            "min_height": null,
            "min_width": null,
            "object_fit": null,
            "object_position": null,
            "order": null,
            "overflow": null,
            "overflow_x": null,
            "overflow_y": null,
            "padding": null,
            "right": null,
            "top": null,
            "visibility": null,
            "width": null
          }
        },
        "3807888cec1b40be802ea84dfcffdd23": {
          "model_module": "@jupyter-widgets/controls",
          "model_name": "DescriptionStyleModel",
          "model_module_version": "1.5.0",
          "state": {
            "_model_module": "@jupyter-widgets/controls",
            "_model_module_version": "1.5.0",
            "_model_name": "DescriptionStyleModel",
            "_view_count": null,
            "_view_module": "@jupyter-widgets/base",
            "_view_module_version": "1.2.0",
            "_view_name": "StyleView",
            "description_width": ""
          }
        },
        "2f1580400c954c13b839f3775a53c422": {
          "model_module": "@jupyter-widgets/base",
          "model_name": "LayoutModel",
          "model_module_version": "1.2.0",
          "state": {
            "_model_module": "@jupyter-widgets/base",
            "_model_module_version": "1.2.0",
            "_model_name": "LayoutModel",
            "_view_count": null,
            "_view_module": "@jupyter-widgets/base",
            "_view_module_version": "1.2.0",
            "_view_name": "LayoutView",
            "align_content": null,
            "align_items": null,
            "align_self": null,
            "border": null,
            "bottom": null,
            "display": null,
            "flex": null,
            "flex_flow": null,
            "grid_area": null,
            "grid_auto_columns": null,
            "grid_auto_flow": null,
            "grid_auto_rows": null,
            "grid_column": null,
            "grid_gap": null,
            "grid_row": null,
            "grid_template_areas": null,
            "grid_template_columns": null,
            "grid_template_rows": null,
            "height": null,
            "justify_content": null,
            "justify_items": null,
            "left": null,
            "margin": null,
            "max_height": null,
            "max_width": null,
            "min_height": null,
            "min_width": null,
            "object_fit": null,
            "object_position": null,
            "order": null,
            "overflow": null,
            "overflow_x": null,
            "overflow_y": null,
            "padding": null,
            "right": null,
            "top": null,
            "visibility": null,
            "width": null
          }
        },
        "5f6f2b3d6830490fb5197b451bfb162d": {
          "model_module": "@jupyter-widgets/controls",
          "model_name": "ProgressStyleModel",
          "model_module_version": "1.5.0",
          "state": {
            "_model_module": "@jupyter-widgets/controls",
            "_model_module_version": "1.5.0",
            "_model_name": "ProgressStyleModel",
            "_view_count": null,
            "_view_module": "@jupyter-widgets/base",
            "_view_module_version": "1.2.0",
            "_view_name": "StyleView",
            "bar_color": null,
            "description_width": ""
          }
        },
        "df54a120ef104e628a5b481e3f53af2f": {
          "model_module": "@jupyter-widgets/base",
          "model_name": "LayoutModel",
          "model_module_version": "1.2.0",
          "state": {
            "_model_module": "@jupyter-widgets/base",
            "_model_module_version": "1.2.0",
            "_model_name": "LayoutModel",
            "_view_count": null,
            "_view_module": "@jupyter-widgets/base",
            "_view_module_version": "1.2.0",
            "_view_name": "LayoutView",
            "align_content": null,
            "align_items": null,
            "align_self": null,
            "border": null,
            "bottom": null,
            "display": null,
            "flex": null,
            "flex_flow": null,
            "grid_area": null,
            "grid_auto_columns": null,
            "grid_auto_flow": null,
            "grid_auto_rows": null,
            "grid_column": null,
            "grid_gap": null,
            "grid_row": null,
            "grid_template_areas": null,
            "grid_template_columns": null,
            "grid_template_rows": null,
            "height": null,
            "justify_content": null,
            "justify_items": null,
            "left": null,
            "margin": null,
            "max_height": null,
            "max_width": null,
            "min_height": null,
            "min_width": null,
            "object_fit": null,
            "object_position": null,
            "order": null,
            "overflow": null,
            "overflow_x": null,
            "overflow_y": null,
            "padding": null,
            "right": null,
            "top": null,
            "visibility": null,
            "width": null
          }
        },
        "e5e6cfb9273240ef96867f086db01541": {
          "model_module": "@jupyter-widgets/controls",
          "model_name": "DescriptionStyleModel",
          "model_module_version": "1.5.0",
          "state": {
            "_model_module": "@jupyter-widgets/controls",
            "_model_module_version": "1.5.0",
            "_model_name": "DescriptionStyleModel",
            "_view_count": null,
            "_view_module": "@jupyter-widgets/base",
            "_view_module_version": "1.2.0",
            "_view_name": "StyleView",
            "description_width": ""
          }
        },
        "f7018197565e4d9f9d70be54f3fda7ea": {
          "model_module": "@jupyter-widgets/controls",
          "model_name": "HBoxModel",
          "model_module_version": "1.5.0",
          "state": {
            "_dom_classes": [],
            "_model_module": "@jupyter-widgets/controls",
            "_model_module_version": "1.5.0",
            "_model_name": "HBoxModel",
            "_view_count": null,
            "_view_module": "@jupyter-widgets/controls",
            "_view_module_version": "1.5.0",
            "_view_name": "HBoxView",
            "box_style": "",
            "children": [
              "IPY_MODEL_5bd770b038c64e6ab2554f14cb359abd",
              "IPY_MODEL_ba26344491cd4867bee9077a544f4717",
              "IPY_MODEL_74ce2212a5f0482b971ee4e66debfc89"
            ],
            "layout": "IPY_MODEL_afc2fbb330134ac98c4c9c6fa06fe51e"
          }
        },
        "5bd770b038c64e6ab2554f14cb359abd": {
          "model_module": "@jupyter-widgets/controls",
          "model_name": "HTMLModel",
          "model_module_version": "1.5.0",
          "state": {
            "_dom_classes": [],
            "_model_module": "@jupyter-widgets/controls",
            "_model_module_version": "1.5.0",
            "_model_name": "HTMLModel",
            "_view_count": null,
            "_view_module": "@jupyter-widgets/controls",
            "_view_module_version": "1.5.0",
            "_view_name": "HTMLView",
            "description": "",
            "description_tooltip": null,
            "layout": "IPY_MODEL_1f2163682f764550afa8f42738b82038",
            "placeholder": "​",
            "style": "IPY_MODEL_c8262c97ef614740ab4a16144be71857",
            "value": "Loading pipeline components...: 100%"
          }
        },
        "ba26344491cd4867bee9077a544f4717": {
          "model_module": "@jupyter-widgets/controls",
          "model_name": "FloatProgressModel",
          "model_module_version": "1.5.0",
          "state": {
            "_dom_classes": [],
            "_model_module": "@jupyter-widgets/controls",
            "_model_module_version": "1.5.0",
            "_model_name": "FloatProgressModel",
            "_view_count": null,
            "_view_module": "@jupyter-widgets/controls",
            "_view_module_version": "1.5.0",
            "_view_name": "ProgressView",
            "bar_style": "success",
            "description": "",
            "description_tooltip": null,
            "layout": "IPY_MODEL_e14c23db91134ece9df05e7be3a7d259",
            "max": 6,
            "min": 0,
            "orientation": "horizontal",
            "style": "IPY_MODEL_21b40943d19447579a53474f07c83385",
            "value": 6
          }
        },
        "74ce2212a5f0482b971ee4e66debfc89": {
          "model_module": "@jupyter-widgets/controls",
          "model_name": "HTMLModel",
          "model_module_version": "1.5.0",
          "state": {
            "_dom_classes": [],
            "_model_module": "@jupyter-widgets/controls",
            "_model_module_version": "1.5.0",
            "_model_name": "HTMLModel",
            "_view_count": null,
            "_view_module": "@jupyter-widgets/controls",
            "_view_module_version": "1.5.0",
            "_view_name": "HTMLView",
            "description": "",
            "description_tooltip": null,
            "layout": "IPY_MODEL_58376ebde5974127a880f04863936f77",
            "placeholder": "​",
            "style": "IPY_MODEL_c3741258f83742dcbec9184001a4b551",
            "value": " 6/6 [00:02&lt;00:00,  1.58it/s]"
          }
        },
        "afc2fbb330134ac98c4c9c6fa06fe51e": {
          "model_module": "@jupyter-widgets/base",
          "model_name": "LayoutModel",
          "model_module_version": "1.2.0",
          "state": {
            "_model_module": "@jupyter-widgets/base",
            "_model_module_version": "1.2.0",
            "_model_name": "LayoutModel",
            "_view_count": null,
            "_view_module": "@jupyter-widgets/base",
            "_view_module_version": "1.2.0",
            "_view_name": "LayoutView",
            "align_content": null,
            "align_items": null,
            "align_self": null,
            "border": null,
            "bottom": null,
            "display": null,
            "flex": null,
            "flex_flow": null,
            "grid_area": null,
            "grid_auto_columns": null,
            "grid_auto_flow": null,
            "grid_auto_rows": null,
            "grid_column": null,
            "grid_gap": null,
            "grid_row": null,
            "grid_template_areas": null,
            "grid_template_columns": null,
            "grid_template_rows": null,
            "height": null,
            "justify_content": null,
            "justify_items": null,
            "left": null,
            "margin": null,
            "max_height": null,
            "max_width": null,
            "min_height": null,
            "min_width": null,
            "object_fit": null,
            "object_position": null,
            "order": null,
            "overflow": null,
            "overflow_x": null,
            "overflow_y": null,
            "padding": null,
            "right": null,
            "top": null,
            "visibility": null,
            "width": null
          }
        },
        "1f2163682f764550afa8f42738b82038": {
          "model_module": "@jupyter-widgets/base",
          "model_name": "LayoutModel",
          "model_module_version": "1.2.0",
          "state": {
            "_model_module": "@jupyter-widgets/base",
            "_model_module_version": "1.2.0",
            "_model_name": "LayoutModel",
            "_view_count": null,
            "_view_module": "@jupyter-widgets/base",
            "_view_module_version": "1.2.0",
            "_view_name": "LayoutView",
            "align_content": null,
            "align_items": null,
            "align_self": null,
            "border": null,
            "bottom": null,
            "display": null,
            "flex": null,
            "flex_flow": null,
            "grid_area": null,
            "grid_auto_columns": null,
            "grid_auto_flow": null,
            "grid_auto_rows": null,
            "grid_column": null,
            "grid_gap": null,
            "grid_row": null,
            "grid_template_areas": null,
            "grid_template_columns": null,
            "grid_template_rows": null,
            "height": null,
            "justify_content": null,
            "justify_items": null,
            "left": null,
            "margin": null,
            "max_height": null,
            "max_width": null,
            "min_height": null,
            "min_width": null,
            "object_fit": null,
            "object_position": null,
            "order": null,
            "overflow": null,
            "overflow_x": null,
            "overflow_y": null,
            "padding": null,
            "right": null,
            "top": null,
            "visibility": null,
            "width": null
          }
        },
        "c8262c97ef614740ab4a16144be71857": {
          "model_module": "@jupyter-widgets/controls",
          "model_name": "DescriptionStyleModel",
          "model_module_version": "1.5.0",
          "state": {
            "_model_module": "@jupyter-widgets/controls",
            "_model_module_version": "1.5.0",
            "_model_name": "DescriptionStyleModel",
            "_view_count": null,
            "_view_module": "@jupyter-widgets/base",
            "_view_module_version": "1.2.0",
            "_view_name": "StyleView",
            "description_width": ""
          }
        },
        "e14c23db91134ece9df05e7be3a7d259": {
          "model_module": "@jupyter-widgets/base",
          "model_name": "LayoutModel",
          "model_module_version": "1.2.0",
          "state": {
            "_model_module": "@jupyter-widgets/base",
            "_model_module_version": "1.2.0",
            "_model_name": "LayoutModel",
            "_view_count": null,
            "_view_module": "@jupyter-widgets/base",
            "_view_module_version": "1.2.0",
            "_view_name": "LayoutView",
            "align_content": null,
            "align_items": null,
            "align_self": null,
            "border": null,
            "bottom": null,
            "display": null,
            "flex": null,
            "flex_flow": null,
            "grid_area": null,
            "grid_auto_columns": null,
            "grid_auto_flow": null,
            "grid_auto_rows": null,
            "grid_column": null,
            "grid_gap": null,
            "grid_row": null,
            "grid_template_areas": null,
            "grid_template_columns": null,
            "grid_template_rows": null,
            "height": null,
            "justify_content": null,
            "justify_items": null,
            "left": null,
            "margin": null,
            "max_height": null,
            "max_width": null,
            "min_height": null,
            "min_width": null,
            "object_fit": null,
            "object_position": null,
            "order": null,
            "overflow": null,
            "overflow_x": null,
            "overflow_y": null,
            "padding": null,
            "right": null,
            "top": null,
            "visibility": null,
            "width": null
          }
        },
        "21b40943d19447579a53474f07c83385": {
          "model_module": "@jupyter-widgets/controls",
          "model_name": "ProgressStyleModel",
          "model_module_version": "1.5.0",
          "state": {
            "_model_module": "@jupyter-widgets/controls",
            "_model_module_version": "1.5.0",
            "_model_name": "ProgressStyleModel",
            "_view_count": null,
            "_view_module": "@jupyter-widgets/base",
            "_view_module_version": "1.2.0",
            "_view_name": "StyleView",
            "bar_color": null,
            "description_width": ""
          }
        },
        "58376ebde5974127a880f04863936f77": {
          "model_module": "@jupyter-widgets/base",
          "model_name": "LayoutModel",
          "model_module_version": "1.2.0",
          "state": {
            "_model_module": "@jupyter-widgets/base",
            "_model_module_version": "1.2.0",
            "_model_name": "LayoutModel",
            "_view_count": null,
            "_view_module": "@jupyter-widgets/base",
            "_view_module_version": "1.2.0",
            "_view_name": "LayoutView",
            "align_content": null,
            "align_items": null,
            "align_self": null,
            "border": null,
            "bottom": null,
            "display": null,
            "flex": null,
            "flex_flow": null,
            "grid_area": null,
            "grid_auto_columns": null,
            "grid_auto_flow": null,
            "grid_auto_rows": null,
            "grid_column": null,
            "grid_gap": null,
            "grid_row": null,
            "grid_template_areas": null,
            "grid_template_columns": null,
            "grid_template_rows": null,
            "height": null,
            "justify_content": null,
            "justify_items": null,
            "left": null,
            "margin": null,
            "max_height": null,
            "max_width": null,
            "min_height": null,
            "min_width": null,
            "object_fit": null,
            "object_position": null,
            "order": null,
            "overflow": null,
            "overflow_x": null,
            "overflow_y": null,
            "padding": null,
            "right": null,
            "top": null,
            "visibility": null,
            "width": null
          }
        },
        "c3741258f83742dcbec9184001a4b551": {
          "model_module": "@jupyter-widgets/controls",
          "model_name": "DescriptionStyleModel",
          "model_module_version": "1.5.0",
          "state": {
            "_model_module": "@jupyter-widgets/controls",
            "_model_module_version": "1.5.0",
            "_model_name": "DescriptionStyleModel",
            "_view_count": null,
            "_view_module": "@jupyter-widgets/base",
            "_view_module_version": "1.2.0",
            "_view_name": "StyleView",
            "description_width": ""
          }
        },
        "070ba94889b54294ab6a3e58de2a622f": {
          "model_module": "@jupyter-widgets/controls",
          "model_name": "HBoxModel",
          "model_module_version": "1.5.0",
          "state": {
            "_dom_classes": [],
            "_model_module": "@jupyter-widgets/controls",
            "_model_module_version": "1.5.0",
            "_model_name": "HBoxModel",
            "_view_count": null,
            "_view_module": "@jupyter-widgets/controls",
            "_view_module_version": "1.5.0",
            "_view_name": "HBoxView",
            "box_style": "",
            "children": [
              "IPY_MODEL_078303c0480a435d8a3bbfaaa0669db0",
              "IPY_MODEL_bd9a38dabe2a49f9b4729afc1bf3b8a0",
              "IPY_MODEL_4fb7dd1282ee4bb1b917433587b158c5"
            ],
            "layout": "IPY_MODEL_22c3e464f78f43c2b471b51c64d7ac71"
          }
        },
        "078303c0480a435d8a3bbfaaa0669db0": {
          "model_module": "@jupyter-widgets/controls",
          "model_name": "HTMLModel",
          "model_module_version": "1.5.0",
          "state": {
            "_dom_classes": [],
            "_model_module": "@jupyter-widgets/controls",
            "_model_module_version": "1.5.0",
            "_model_name": "HTMLModel",
            "_view_count": null,
            "_view_module": "@jupyter-widgets/controls",
            "_view_module_version": "1.5.0",
            "_view_name": "HTMLView",
            "description": "",
            "description_tooltip": null,
            "layout": "IPY_MODEL_17032a30c89446779b65007f33148ff7",
            "placeholder": "​",
            "style": "IPY_MODEL_82a49d323e5a4d48aa6e52eb378412c2",
            "value": "100%"
          }
        },
        "bd9a38dabe2a49f9b4729afc1bf3b8a0": {
          "model_module": "@jupyter-widgets/controls",
          "model_name": "FloatProgressModel",
          "model_module_version": "1.5.0",
          "state": {
            "_dom_classes": [],
            "_model_module": "@jupyter-widgets/controls",
            "_model_module_version": "1.5.0",
            "_model_name": "FloatProgressModel",
            "_view_count": null,
            "_view_module": "@jupyter-widgets/controls",
            "_view_module_version": "1.5.0",
            "_view_name": "ProgressView",
            "bar_style": "success",
            "description": "",
            "description_tooltip": null,
            "layout": "IPY_MODEL_79d2403907534193a544f9210b4b03e9",
            "max": 30,
            "min": 0,
            "orientation": "horizontal",
            "style": "IPY_MODEL_ebd4bced89e54798abd359b25acc0763",
            "value": 30
          }
        },
        "4fb7dd1282ee4bb1b917433587b158c5": {
          "model_module": "@jupyter-widgets/controls",
          "model_name": "HTMLModel",
          "model_module_version": "1.5.0",
          "state": {
            "_dom_classes": [],
            "_model_module": "@jupyter-widgets/controls",
            "_model_module_version": "1.5.0",
            "_model_name": "HTMLModel",
            "_view_count": null,
            "_view_module": "@jupyter-widgets/controls",
            "_view_module_version": "1.5.0",
            "_view_name": "HTMLView",
            "description": "",
            "description_tooltip": null,
            "layout": "IPY_MODEL_3b9b3dab2d124ffcb9975cdefd957107",
            "placeholder": "​",
            "style": "IPY_MODEL_f446e09071364e38a2698aa1ef45208f",
            "value": " 30/30 [00:14&lt;00:00,  2.15it/s]"
          }
        },
        "22c3e464f78f43c2b471b51c64d7ac71": {
          "model_module": "@jupyter-widgets/base",
          "model_name": "LayoutModel",
          "model_module_version": "1.2.0",
          "state": {
            "_model_module": "@jupyter-widgets/base",
            "_model_module_version": "1.2.0",
            "_model_name": "LayoutModel",
            "_view_count": null,
            "_view_module": "@jupyter-widgets/base",
            "_view_module_version": "1.2.0",
            "_view_name": "LayoutView",
            "align_content": null,
            "align_items": null,
            "align_self": null,
            "border": null,
            "bottom": null,
            "display": null,
            "flex": null,
            "flex_flow": null,
            "grid_area": null,
            "grid_auto_columns": null,
            "grid_auto_flow": null,
            "grid_auto_rows": null,
            "grid_column": null,
            "grid_gap": null,
            "grid_row": null,
            "grid_template_areas": null,
            "grid_template_columns": null,
            "grid_template_rows": null,
            "height": null,
            "justify_content": null,
            "justify_items": null,
            "left": null,
            "margin": null,
            "max_height": null,
            "max_width": null,
            "min_height": null,
            "min_width": null,
            "object_fit": null,
            "object_position": null,
            "order": null,
            "overflow": null,
            "overflow_x": null,
            "overflow_y": null,
            "padding": null,
            "right": null,
            "top": null,
            "visibility": null,
            "width": null
          }
        },
        "17032a30c89446779b65007f33148ff7": {
          "model_module": "@jupyter-widgets/base",
          "model_name": "LayoutModel",
          "model_module_version": "1.2.0",
          "state": {
            "_model_module": "@jupyter-widgets/base",
            "_model_module_version": "1.2.0",
            "_model_name": "LayoutModel",
            "_view_count": null,
            "_view_module": "@jupyter-widgets/base",
            "_view_module_version": "1.2.0",
            "_view_name": "LayoutView",
            "align_content": null,
            "align_items": null,
            "align_self": null,
            "border": null,
            "bottom": null,
            "display": null,
            "flex": null,
            "flex_flow": null,
            "grid_area": null,
            "grid_auto_columns": null,
            "grid_auto_flow": null,
            "grid_auto_rows": null,
            "grid_column": null,
            "grid_gap": null,
            "grid_row": null,
            "grid_template_areas": null,
            "grid_template_columns": null,
            "grid_template_rows": null,
            "height": null,
            "justify_content": null,
            "justify_items": null,
            "left": null,
            "margin": null,
            "max_height": null,
            "max_width": null,
            "min_height": null,
            "min_width": null,
            "object_fit": null,
            "object_position": null,
            "order": null,
            "overflow": null,
            "overflow_x": null,
            "overflow_y": null,
            "padding": null,
            "right": null,
            "top": null,
            "visibility": null,
            "width": null
          }
        },
        "82a49d323e5a4d48aa6e52eb378412c2": {
          "model_module": "@jupyter-widgets/controls",
          "model_name": "DescriptionStyleModel",
          "model_module_version": "1.5.0",
          "state": {
            "_model_module": "@jupyter-widgets/controls",
            "_model_module_version": "1.5.0",
            "_model_name": "DescriptionStyleModel",
            "_view_count": null,
            "_view_module": "@jupyter-widgets/base",
            "_view_module_version": "1.2.0",
            "_view_name": "StyleView",
            "description_width": ""
          }
        },
        "79d2403907534193a544f9210b4b03e9": {
          "model_module": "@jupyter-widgets/base",
          "model_name": "LayoutModel",
          "model_module_version": "1.2.0",
          "state": {
            "_model_module": "@jupyter-widgets/base",
            "_model_module_version": "1.2.0",
            "_model_name": "LayoutModel",
            "_view_count": null,
            "_view_module": "@jupyter-widgets/base",
            "_view_module_version": "1.2.0",
            "_view_name": "LayoutView",
            "align_content": null,
            "align_items": null,
            "align_self": null,
            "border": null,
            "bottom": null,
            "display": null,
            "flex": null,
            "flex_flow": null,
            "grid_area": null,
            "grid_auto_columns": null,
            "grid_auto_flow": null,
            "grid_auto_rows": null,
            "grid_column": null,
            "grid_gap": null,
            "grid_row": null,
            "grid_template_areas": null,
            "grid_template_columns": null,
            "grid_template_rows": null,
            "height": null,
            "justify_content": null,
            "justify_items": null,
            "left": null,
            "margin": null,
            "max_height": null,
            "max_width": null,
            "min_height": null,
            "min_width": null,
            "object_fit": null,
            "object_position": null,
            "order": null,
            "overflow": null,
            "overflow_x": null,
            "overflow_y": null,
            "padding": null,
            "right": null,
            "top": null,
            "visibility": null,
            "width": null
          }
        },
        "ebd4bced89e54798abd359b25acc0763": {
          "model_module": "@jupyter-widgets/controls",
          "model_name": "ProgressStyleModel",
          "model_module_version": "1.5.0",
          "state": {
            "_model_module": "@jupyter-widgets/controls",
            "_model_module_version": "1.5.0",
            "_model_name": "ProgressStyleModel",
            "_view_count": null,
            "_view_module": "@jupyter-widgets/base",
            "_view_module_version": "1.2.0",
            "_view_name": "StyleView",
            "bar_color": null,
            "description_width": ""
          }
        },
        "3b9b3dab2d124ffcb9975cdefd957107": {
          "model_module": "@jupyter-widgets/base",
          "model_name": "LayoutModel",
          "model_module_version": "1.2.0",
          "state": {
            "_model_module": "@jupyter-widgets/base",
            "_model_module_version": "1.2.0",
            "_model_name": "LayoutModel",
            "_view_count": null,
            "_view_module": "@jupyter-widgets/base",
            "_view_module_version": "1.2.0",
            "_view_name": "LayoutView",
            "align_content": null,
            "align_items": null,
            "align_self": null,
            "border": null,
            "bottom": null,
            "display": null,
            "flex": null,
            "flex_flow": null,
            "grid_area": null,
            "grid_auto_columns": null,
            "grid_auto_flow": null,
            "grid_auto_rows": null,
            "grid_column": null,
            "grid_gap": null,
            "grid_row": null,
            "grid_template_areas": null,
            "grid_template_columns": null,
            "grid_template_rows": null,
            "height": null,
            "justify_content": null,
            "justify_items": null,
            "left": null,
            "margin": null,
            "max_height": null,
            "max_width": null,
            "min_height": null,
            "min_width": null,
            "object_fit": null,
            "object_position": null,
            "order": null,
            "overflow": null,
            "overflow_x": null,
            "overflow_y": null,
            "padding": null,
            "right": null,
            "top": null,
            "visibility": null,
            "width": null
          }
        },
        "f446e09071364e38a2698aa1ef45208f": {
          "model_module": "@jupyter-widgets/controls",
          "model_name": "DescriptionStyleModel",
          "model_module_version": "1.5.0",
          "state": {
            "_model_module": "@jupyter-widgets/controls",
            "_model_module_version": "1.5.0",
            "_model_name": "DescriptionStyleModel",
            "_view_count": null,
            "_view_module": "@jupyter-widgets/base",
            "_view_module_version": "1.2.0",
            "_view_name": "StyleView",
            "description_width": ""
          }
        }
      }
    }
  },
  "cells": [
    {
      "cell_type": "code",
      "source": [
        "# 不需要使用accelerator 因为我们只有一个gpu"
      ],
      "metadata": {
        "id": "uany7XEADTFO"
      },
      "execution_count": null,
      "outputs": []
    },
    {
      "cell_type": "code",
      "source": [
        "!git clone https://github.com/huggingface/diffusers\n",
        "%cd diffusers\n",
        "!pip install ."
      ],
      "metadata": {
        "id": "4SPGqPATveJi",
        "colab": {
          "base_uri": "https://localhost:8080/"
        },
        "outputId": "180527d8-97db-438a-99e6-1d420801303b"
      },
      "execution_count": 2,
      "outputs": [
        {
          "output_type": "stream",
          "name": "stdout",
          "text": [
            "fatal: destination path 'diffusers' already exists and is not an empty directory.\n",
            "/content/diffusers\n",
            "Processing /content/diffusers\n",
            "  Installing build dependencies ... \u001b[?25l\u001b[?25hdone\n",
            "  Getting requirements to build wheel ... \u001b[?25l\u001b[?25hdone\n",
            "  Preparing metadata (pyproject.toml) ... \u001b[?25l\u001b[?25hdone\n",
            "Requirement already satisfied: importlib-metadata in /usr/local/lib/python3.10/dist-packages (from diffusers==0.24.0.dev0) (6.8.0)\n",
            "Requirement already satisfied: filelock in /usr/local/lib/python3.10/dist-packages (from diffusers==0.24.0.dev0) (3.13.1)\n",
            "Requirement already satisfied: huggingface-hub>=0.19.4 in /usr/local/lib/python3.10/dist-packages (from diffusers==0.24.0.dev0) (0.19.4)\n",
            "Requirement already satisfied: numpy in /usr/local/lib/python3.10/dist-packages (from diffusers==0.24.0.dev0) (1.23.5)\n",
            "Requirement already satisfied: regex!=2019.12.17 in /usr/local/lib/python3.10/dist-packages (from diffusers==0.24.0.dev0) (2023.6.3)\n",
            "Requirement already satisfied: requests in /usr/local/lib/python3.10/dist-packages (from diffusers==0.24.0.dev0) (2.31.0)\n",
            "Requirement already satisfied: safetensors>=0.3.1 in /usr/local/lib/python3.10/dist-packages (from diffusers==0.24.0.dev0) (0.4.0)\n",
            "Requirement already satisfied: Pillow in /usr/local/lib/python3.10/dist-packages (from diffusers==0.24.0.dev0) (9.4.0)\n",
            "Requirement already satisfied: fsspec>=2023.5.0 in /usr/local/lib/python3.10/dist-packages (from huggingface-hub>=0.19.4->diffusers==0.24.0.dev0) (2023.6.0)\n",
            "Requirement already satisfied: tqdm>=4.42.1 in /usr/local/lib/python3.10/dist-packages (from huggingface-hub>=0.19.4->diffusers==0.24.0.dev0) (4.66.1)\n",
            "Requirement already satisfied: pyyaml>=5.1 in /usr/local/lib/python3.10/dist-packages (from huggingface-hub>=0.19.4->diffusers==0.24.0.dev0) (6.0.1)\n",
            "Requirement already satisfied: typing-extensions>=3.7.4.3 in /usr/local/lib/python3.10/dist-packages (from huggingface-hub>=0.19.4->diffusers==0.24.0.dev0) (4.5.0)\n",
            "Requirement already satisfied: packaging>=20.9 in /usr/local/lib/python3.10/dist-packages (from huggingface-hub>=0.19.4->diffusers==0.24.0.dev0) (23.2)\n",
            "Requirement already satisfied: zipp>=0.5 in /usr/local/lib/python3.10/dist-packages (from importlib-metadata->diffusers==0.24.0.dev0) (3.17.0)\n",
            "Requirement already satisfied: charset-normalizer<4,>=2 in /usr/local/lib/python3.10/dist-packages (from requests->diffusers==0.24.0.dev0) (3.3.2)\n",
            "Requirement already satisfied: idna<4,>=2.5 in /usr/local/lib/python3.10/dist-packages (from requests->diffusers==0.24.0.dev0) (3.4)\n",
            "Requirement already satisfied: urllib3<3,>=1.21.1 in /usr/local/lib/python3.10/dist-packages (from requests->diffusers==0.24.0.dev0) (2.0.7)\n",
            "Requirement already satisfied: certifi>=2017.4.17 in /usr/local/lib/python3.10/dist-packages (from requests->diffusers==0.24.0.dev0) (2023.7.22)\n",
            "Building wheels for collected packages: diffusers\n",
            "  Building wheel for diffusers (pyproject.toml) ... \u001b[?25l\u001b[?25hdone\n",
            "  Created wheel for diffusers: filename=diffusers-0.24.0.dev0-py3-none-any.whl size=1764673 sha256=11537450cae1068f1503a90b069e57b15abba224bcdf18d3bfb2291164200d9d\n",
            "  Stored in directory: /tmp/pip-ephem-wheel-cache-vuccguis/wheels/95/c5/3b/e1b4269f8a2584de57e75f949a185b48fc4144e9a91fc9965a\n",
            "Successfully built diffusers\n",
            "Installing collected packages: diffusers\n",
            "  Attempting uninstall: diffusers\n",
            "    Found existing installation: diffusers 0.24.0.dev0\n",
            "    Uninstalling diffusers-0.24.0.dev0:\n",
            "      Successfully uninstalled diffusers-0.24.0.dev0\n",
            "Successfully installed diffusers-0.24.0.dev0\n"
          ]
        }
      ]
    },
    {
      "cell_type": "code",
      "source": [
        "%cd examples/text_to_image"
      ],
      "metadata": {
        "colab": {
          "base_uri": "https://localhost:8080/"
        },
        "id": "iVpteejGv2Vy",
        "outputId": "fc7a5a89-a9a0-4272-d2aa-d635af7b164c"
      },
      "execution_count": 3,
      "outputs": [
        {
          "output_type": "stream",
          "name": "stdout",
          "text": [
            "/content/diffusers/examples/text_to_image\n"
          ]
        }
      ]
    },
    {
      "cell_type": "code",
      "source": [
        "!pip install -r requirements.txt"
      ],
      "metadata": {
        "id": "Qz1dJkz2wB_S",
        "colab": {
          "base_uri": "https://localhost:8080/"
        },
        "outputId": "dd801e29-e542-4bd7-e1ca-257e9500e158"
      },
      "execution_count": 4,
      "outputs": [
        {
          "output_type": "stream",
          "name": "stdout",
          "text": [
            "Requirement already satisfied: accelerate>=0.16.0 in /usr/local/lib/python3.10/dist-packages (from -r requirements.txt (line 1)) (0.24.1)\n",
            "Requirement already satisfied: torchvision in /usr/local/lib/python3.10/dist-packages (from -r requirements.txt (line 2)) (0.16.0+cu118)\n",
            "Requirement already satisfied: transformers>=4.25.1 in /usr/local/lib/python3.10/dist-packages (from -r requirements.txt (line 3)) (4.35.2)\n",
            "Requirement already satisfied: datasets in /usr/local/lib/python3.10/dist-packages (from -r requirements.txt (line 4)) (2.15.0)\n",
            "Requirement already satisfied: ftfy in /usr/local/lib/python3.10/dist-packages (from -r requirements.txt (line 5)) (6.1.3)\n",
            "Requirement already satisfied: tensorboard in /usr/local/lib/python3.10/dist-packages (from -r requirements.txt (line 6)) (2.14.1)\n",
            "Requirement already satisfied: Jinja2 in /usr/local/lib/python3.10/dist-packages (from -r requirements.txt (line 7)) (3.1.2)\n",
            "Requirement already satisfied: numpy>=1.17 in /usr/local/lib/python3.10/dist-packages (from accelerate>=0.16.0->-r requirements.txt (line 1)) (1.23.5)\n",
            "Requirement already satisfied: packaging>=20.0 in /usr/local/lib/python3.10/dist-packages (from accelerate>=0.16.0->-r requirements.txt (line 1)) (23.2)\n",
            "Requirement already satisfied: psutil in /usr/local/lib/python3.10/dist-packages (from accelerate>=0.16.0->-r requirements.txt (line 1)) (5.9.5)\n",
            "Requirement already satisfied: pyyaml in /usr/local/lib/python3.10/dist-packages (from accelerate>=0.16.0->-r requirements.txt (line 1)) (6.0.1)\n",
            "Requirement already satisfied: torch>=1.10.0 in /usr/local/lib/python3.10/dist-packages (from accelerate>=0.16.0->-r requirements.txt (line 1)) (2.1.0+cu118)\n",
            "Requirement already satisfied: huggingface-hub in /usr/local/lib/python3.10/dist-packages (from accelerate>=0.16.0->-r requirements.txt (line 1)) (0.19.4)\n",
            "Requirement already satisfied: requests in /usr/local/lib/python3.10/dist-packages (from torchvision->-r requirements.txt (line 2)) (2.31.0)\n",
            "Requirement already satisfied: pillow!=8.3.*,>=5.3.0 in /usr/local/lib/python3.10/dist-packages (from torchvision->-r requirements.txt (line 2)) (9.4.0)\n",
            "Requirement already satisfied: filelock in /usr/local/lib/python3.10/dist-packages (from torch>=1.10.0->accelerate>=0.16.0->-r requirements.txt (line 1)) (3.13.1)\n",
            "Requirement already satisfied: typing-extensions in /usr/local/lib/python3.10/dist-packages (from torch>=1.10.0->accelerate>=0.16.0->-r requirements.txt (line 1)) (4.5.0)\n",
            "Requirement already satisfied: sympy in /usr/local/lib/python3.10/dist-packages (from torch>=1.10.0->accelerate>=0.16.0->-r requirements.txt (line 1)) (1.12)\n",
            "Requirement already satisfied: networkx in /usr/local/lib/python3.10/dist-packages (from torch>=1.10.0->accelerate>=0.16.0->-r requirements.txt (line 1)) (3.2.1)\n",
            "Requirement already satisfied: fsspec in /usr/local/lib/python3.10/dist-packages (from torch>=1.10.0->accelerate>=0.16.0->-r requirements.txt (line 1)) (2023.6.0)\n",
            "Requirement already satisfied: triton==2.1.0 in /usr/local/lib/python3.10/dist-packages (from torch>=1.10.0->accelerate>=0.16.0->-r requirements.txt (line 1)) (2.1.0)\n",
            "Requirement already satisfied: regex!=2019.12.17 in /usr/local/lib/python3.10/dist-packages (from transformers>=4.25.1->-r requirements.txt (line 3)) (2023.6.3)\n",
            "Requirement already satisfied: tokenizers<0.19,>=0.14 in /usr/local/lib/python3.10/dist-packages (from transformers>=4.25.1->-r requirements.txt (line 3)) (0.15.0)\n",
            "Requirement already satisfied: safetensors>=0.3.1 in /usr/local/lib/python3.10/dist-packages (from transformers>=4.25.1->-r requirements.txt (line 3)) (0.4.0)\n",
            "Requirement already satisfied: tqdm>=4.27 in /usr/local/lib/python3.10/dist-packages (from transformers>=4.25.1->-r requirements.txt (line 3)) (4.66.1)\n",
            "Requirement already satisfied: pyarrow>=8.0.0 in /usr/local/lib/python3.10/dist-packages (from datasets->-r requirements.txt (line 4)) (9.0.0)\n",
            "Requirement already satisfied: pyarrow-hotfix in /usr/local/lib/python3.10/dist-packages (from datasets->-r requirements.txt (line 4)) (0.6)\n",
            "Requirement already satisfied: dill<0.3.8,>=0.3.0 in /usr/local/lib/python3.10/dist-packages (from datasets->-r requirements.txt (line 4)) (0.3.7)\n",
            "Requirement already satisfied: pandas in /usr/local/lib/python3.10/dist-packages (from datasets->-r requirements.txt (line 4)) (1.5.3)\n",
            "Requirement already satisfied: xxhash in /usr/local/lib/python3.10/dist-packages (from datasets->-r requirements.txt (line 4)) (3.4.1)\n",
            "Requirement already satisfied: multiprocess in /usr/local/lib/python3.10/dist-packages (from datasets->-r requirements.txt (line 4)) (0.70.15)\n",
            "Requirement already satisfied: aiohttp in /usr/local/lib/python3.10/dist-packages (from datasets->-r requirements.txt (line 4)) (3.8.6)\n",
            "Requirement already satisfied: wcwidth<0.3.0,>=0.2.12 in /usr/local/lib/python3.10/dist-packages (from ftfy->-r requirements.txt (line 5)) (0.2.12)\n",
            "Requirement already satisfied: absl-py>=0.4 in /usr/local/lib/python3.10/dist-packages (from tensorboard->-r requirements.txt (line 6)) (1.4.0)\n",
            "Requirement already satisfied: grpcio>=1.48.2 in /usr/local/lib/python3.10/dist-packages (from tensorboard->-r requirements.txt (line 6)) (1.59.2)\n",
            "Requirement already satisfied: google-auth<3,>=1.6.3 in /usr/local/lib/python3.10/dist-packages (from tensorboard->-r requirements.txt (line 6)) (2.17.3)\n",
            "Requirement already satisfied: google-auth-oauthlib<1.1,>=0.5 in /usr/local/lib/python3.10/dist-packages (from tensorboard->-r requirements.txt (line 6)) (1.0.0)\n",
            "Requirement already satisfied: markdown>=2.6.8 in /usr/local/lib/python3.10/dist-packages (from tensorboard->-r requirements.txt (line 6)) (3.5.1)\n",
            "Requirement already satisfied: protobuf>=3.19.6 in /usr/local/lib/python3.10/dist-packages (from tensorboard->-r requirements.txt (line 6)) (3.20.3)\n",
            "Requirement already satisfied: setuptools>=41.0.0 in /usr/local/lib/python3.10/dist-packages (from tensorboard->-r requirements.txt (line 6)) (67.7.2)\n",
            "Requirement already satisfied: six>1.9 in /usr/local/lib/python3.10/dist-packages (from tensorboard->-r requirements.txt (line 6)) (1.16.0)\n",
            "Requirement already satisfied: tensorboard-data-server<0.8.0,>=0.7.0 in /usr/local/lib/python3.10/dist-packages (from tensorboard->-r requirements.txt (line 6)) (0.7.2)\n",
            "Requirement already satisfied: werkzeug>=1.0.1 in /usr/local/lib/python3.10/dist-packages (from tensorboard->-r requirements.txt (line 6)) (3.0.1)\n",
            "Requirement already satisfied: MarkupSafe>=2.0 in /usr/local/lib/python3.10/dist-packages (from Jinja2->-r requirements.txt (line 7)) (2.1.3)\n",
            "Requirement already satisfied: attrs>=17.3.0 in /usr/local/lib/python3.10/dist-packages (from aiohttp->datasets->-r requirements.txt (line 4)) (23.1.0)\n",
            "Requirement already satisfied: charset-normalizer<4.0,>=2.0 in /usr/local/lib/python3.10/dist-packages (from aiohttp->datasets->-r requirements.txt (line 4)) (3.3.2)\n",
            "Requirement already satisfied: multidict<7.0,>=4.5 in /usr/local/lib/python3.10/dist-packages (from aiohttp->datasets->-r requirements.txt (line 4)) (6.0.4)\n",
            "Requirement already satisfied: async-timeout<5.0,>=4.0.0a3 in /usr/local/lib/python3.10/dist-packages (from aiohttp->datasets->-r requirements.txt (line 4)) (4.0.3)\n",
            "Requirement already satisfied: yarl<2.0,>=1.0 in /usr/local/lib/python3.10/dist-packages (from aiohttp->datasets->-r requirements.txt (line 4)) (1.9.2)\n",
            "Requirement already satisfied: frozenlist>=1.1.1 in /usr/local/lib/python3.10/dist-packages (from aiohttp->datasets->-r requirements.txt (line 4)) (1.4.0)\n",
            "Requirement already satisfied: aiosignal>=1.1.2 in /usr/local/lib/python3.10/dist-packages (from aiohttp->datasets->-r requirements.txt (line 4)) (1.3.1)\n",
            "Requirement already satisfied: cachetools<6.0,>=2.0.0 in /usr/local/lib/python3.10/dist-packages (from google-auth<3,>=1.6.3->tensorboard->-r requirements.txt (line 6)) (5.3.2)\n",
            "Requirement already satisfied: pyasn1-modules>=0.2.1 in /usr/local/lib/python3.10/dist-packages (from google-auth<3,>=1.6.3->tensorboard->-r requirements.txt (line 6)) (0.3.0)\n",
            "Requirement already satisfied: rsa<5,>=3.1.4 in /usr/local/lib/python3.10/dist-packages (from google-auth<3,>=1.6.3->tensorboard->-r requirements.txt (line 6)) (4.9)\n",
            "Requirement already satisfied: requests-oauthlib>=0.7.0 in /usr/local/lib/python3.10/dist-packages (from google-auth-oauthlib<1.1,>=0.5->tensorboard->-r requirements.txt (line 6)) (1.3.1)\n",
            "Requirement already satisfied: idna<4,>=2.5 in /usr/local/lib/python3.10/dist-packages (from requests->torchvision->-r requirements.txt (line 2)) (3.4)\n",
            "Requirement already satisfied: urllib3<3,>=1.21.1 in /usr/local/lib/python3.10/dist-packages (from requests->torchvision->-r requirements.txt (line 2)) (2.0.7)\n",
            "Requirement already satisfied: certifi>=2017.4.17 in /usr/local/lib/python3.10/dist-packages (from requests->torchvision->-r requirements.txt (line 2)) (2023.7.22)\n",
            "Requirement already satisfied: python-dateutil>=2.8.1 in /usr/local/lib/python3.10/dist-packages (from pandas->datasets->-r requirements.txt (line 4)) (2.8.2)\n",
            "Requirement already satisfied: pytz>=2020.1 in /usr/local/lib/python3.10/dist-packages (from pandas->datasets->-r requirements.txt (line 4)) (2023.3.post1)\n",
            "Requirement already satisfied: pyasn1<0.6.0,>=0.4.6 in /usr/local/lib/python3.10/dist-packages (from pyasn1-modules>=0.2.1->google-auth<3,>=1.6.3->tensorboard->-r requirements.txt (line 6)) (0.5.0)\n",
            "Requirement already satisfied: oauthlib>=3.0.0 in /usr/local/lib/python3.10/dist-packages (from requests-oauthlib>=0.7.0->google-auth-oauthlib<1.1,>=0.5->tensorboard->-r requirements.txt (line 6)) (3.2.2)\n",
            "Requirement already satisfied: mpmath>=0.19 in /usr/local/lib/python3.10/dist-packages (from sympy->torch>=1.10.0->accelerate>=0.16.0->-r requirements.txt (line 1)) (1.3.0)\n"
          ]
        }
      ]
    },
    {
      "cell_type": "code",
      "source": [
        "! pip install wandb"
      ],
      "metadata": {
        "id": "GShTaPGC1OHW",
        "colab": {
          "base_uri": "https://localhost:8080/"
        },
        "outputId": "6c9844c4-1947-4d27-bab9-9bffac653297"
      },
      "execution_count": 5,
      "outputs": [
        {
          "output_type": "stream",
          "name": "stdout",
          "text": [
            "Requirement already satisfied: wandb in /usr/local/lib/python3.10/dist-packages (0.16.0)\n",
            "Requirement already satisfied: Click!=8.0.0,>=7.1 in /usr/local/lib/python3.10/dist-packages (from wandb) (8.1.7)\n",
            "Requirement already satisfied: GitPython!=3.1.29,>=1.0.0 in /usr/local/lib/python3.10/dist-packages (from wandb) (3.1.40)\n",
            "Requirement already satisfied: requests<3,>=2.0.0 in /usr/local/lib/python3.10/dist-packages (from wandb) (2.31.0)\n",
            "Requirement already satisfied: psutil>=5.0.0 in /usr/local/lib/python3.10/dist-packages (from wandb) (5.9.5)\n",
            "Requirement already satisfied: sentry-sdk>=1.0.0 in /usr/local/lib/python3.10/dist-packages (from wandb) (1.38.0)\n",
            "Requirement already satisfied: docker-pycreds>=0.4.0 in /usr/local/lib/python3.10/dist-packages (from wandb) (0.4.0)\n",
            "Requirement already satisfied: PyYAML in /usr/local/lib/python3.10/dist-packages (from wandb) (6.0.1)\n",
            "Requirement already satisfied: setproctitle in /usr/local/lib/python3.10/dist-packages (from wandb) (1.3.3)\n",
            "Requirement already satisfied: setuptools in /usr/local/lib/python3.10/dist-packages (from wandb) (67.7.2)\n",
            "Requirement already satisfied: appdirs>=1.4.3 in /usr/local/lib/python3.10/dist-packages (from wandb) (1.4.4)\n",
            "Requirement already satisfied: protobuf!=4.21.0,<5,>=3.19.0 in /usr/local/lib/python3.10/dist-packages (from wandb) (3.20.3)\n",
            "Requirement already satisfied: six>=1.4.0 in /usr/local/lib/python3.10/dist-packages (from docker-pycreds>=0.4.0->wandb) (1.16.0)\n",
            "Requirement already satisfied: gitdb<5,>=4.0.1 in /usr/local/lib/python3.10/dist-packages (from GitPython!=3.1.29,>=1.0.0->wandb) (4.0.11)\n",
            "Requirement already satisfied: charset-normalizer<4,>=2 in /usr/local/lib/python3.10/dist-packages (from requests<3,>=2.0.0->wandb) (3.3.2)\n",
            "Requirement already satisfied: idna<4,>=2.5 in /usr/local/lib/python3.10/dist-packages (from requests<3,>=2.0.0->wandb) (3.4)\n",
            "Requirement already satisfied: urllib3<3,>=1.21.1 in /usr/local/lib/python3.10/dist-packages (from requests<3,>=2.0.0->wandb) (2.0.7)\n",
            "Requirement already satisfied: certifi>=2017.4.17 in /usr/local/lib/python3.10/dist-packages (from requests<3,>=2.0.0->wandb) (2023.7.22)\n",
            "Requirement already satisfied: smmap<6,>=3.0.1 in /usr/local/lib/python3.10/dist-packages (from gitdb<5,>=4.0.1->GitPython!=3.1.29,>=1.0.0->wandb) (5.0.1)\n"
          ]
        }
      ]
    },
    {
      "cell_type": "code",
      "source": [
        "import wandb\n",
        "wandb.login()"
      ],
      "metadata": {
        "colab": {
          "base_uri": "https://localhost:8080/"
        },
        "id": "Ykg9Pcnm1XXD",
        "outputId": "b3a42163-8034-487a-d47b-d2d176844d8f"
      },
      "execution_count": 6,
      "outputs": [
        {
          "output_type": "stream",
          "name": "stderr",
          "text": [
            "\u001b[34m\u001b[1mwandb\u001b[0m: Currently logged in as: \u001b[33mxiaochy\u001b[0m (\u001b[33mcs182_xiaochy\u001b[0m). Use \u001b[1m`wandb login --relogin`\u001b[0m to force relogin\n"
          ]
        },
        {
          "output_type": "execute_result",
          "data": {
            "text/plain": [
              "True"
            ]
          },
          "metadata": {},
          "execution_count": 6
        }
      ]
    },
    {
      "cell_type": "code",
      "execution_count": 7,
      "metadata": {
        "id": "o_1EcIk-vHd2"
      },
      "outputs": [],
      "source": [
        "import argparse\n",
        "import logging\n",
        "import math\n",
        "import os\n",
        "import random\n",
        "import shutil\n",
        "from pathlib import Path\n",
        "\n",
        "import datasets\n",
        "import numpy as np\n",
        "import torch\n",
        "import torch.nn.functional as F\n",
        "import torch.utils.checkpoint\n",
        "import transformers\n",
        "from accelerate import Accelerator\n",
        "# 如何使用get_logger获得log信息？\n",
        "from accelerate.logging import get_logger\n",
        "from accelerate.utils import ProjectConfiguration, set_seed\n",
        "from datasets import load_dataset\n",
        "from huggingface_hub import create_repo, upload_folder\n",
        "from packaging import version\n",
        "from torchvision import transforms\n",
        "# tqdm 是一个用于在 Python 中显示进度条的库，它通常在循环中使用，以便用户可以实时看到代码的执行进度。\n",
        "from tqdm.auto import tqdm\n",
        "# CLIPTextModel： 它是一个用于处理文本的预训练模型，可以接收输入文本并生成对应的文本表示。你可以使用这个模型来提取文本特征或进行文本相关的任务\n",
        "# CLIPTokenizer： 用于对输入文本进行标记化（tokenization）的 CLIP 模型的标记器\n",
        "from transformers import CLIPTextModel, CLIPTokenizer\n",
        "\n",
        "import diffusers\n",
        "from diffusers import AutoencoderKL, DDPMScheduler, DiffusionPipeline, UNet2DConditionModel\n",
        "from diffusers.models.lora import LoRALinearLayer\n",
        "from diffusers.optimization import get_scheduler\n",
        "from diffusers.training_utils import compute_snr\n",
        "from diffusers.utils import check_min_version, is_wandb_available\n",
        "from diffusers.utils.import_utils import is_xformers_available\n",
        "\n",
        "\n",
        "# Will error if the minimal version of diffusers is not installed. Remove at your own risks.\n",
        "check_min_version(\"0.24.0.dev0\")\n",
        "\n",
        "logger = get_logger(__name__, log_level=\"INFO\")"
      ]
    },
    {
      "cell_type": "code",
      "source": [
        "# TODO: This function should be removed once training scripts are rewritten in PEFT\n",
        "def text_encoder_lora_state_dict(text_encoder):\n",
        "    state_dict = {}\n",
        "\n",
        "    def text_encoder_attn_modules(text_encoder):\n",
        "        from transformers import CLIPTextModel, CLIPTextModelWithProjection\n",
        "\n",
        "        attn_modules = []\n",
        "\n",
        "        if isinstance(text_encoder, (CLIPTextModel, CLIPTextModelWithProjection)):\n",
        "            for i, layer in enumerate(text_encoder.text_model.encoder.layers):\n",
        "                name = f\"text_model.encoder.layers.{i}.self_attn\"\n",
        "                mod = layer.self_attn\n",
        "                attn_modules.append((name, mod))\n",
        "\n",
        "        return attn_modules\n",
        "\n",
        "    for name, module in text_encoder_attn_modules(text_encoder):\n",
        "        for k, v in module.q_proj.lora_linear_layer.state_dict().items():\n",
        "            state_dict[f\"{name}.q_proj.lora_linear_layer.{k}\"] = v\n",
        "\n",
        "        for k, v in module.k_proj.lora_linear_layer.state_dict().items():\n",
        "            state_dict[f\"{name}.k_proj.lora_linear_layer.{k}\"] = v\n",
        "\n",
        "        for k, v in module.v_proj.lora_linear_layer.state_dict().items():\n",
        "            state_dict[f\"{name}.v_proj.lora_linear_layer.{k}\"] = v\n",
        "\n",
        "        for k, v in module.out_proj.lora_linear_layer.state_dict().items():\n",
        "            state_dict[f\"{name}.out_proj.lora_linear_layer.{k}\"] = v\n",
        "\n",
        "    return state_dict\n",
        "\n",
        "\n",
        "def save_model_card(repo_id: str, images=None, base_model=str, dataset_name=str, repo_folder=None):\n",
        "    img_str = \"\"\n",
        "    for i, image in enumerate(images):\n",
        "        image.save(os.path.join(repo_folder, f\"image_{i}.png\"))\n",
        "        img_str += f\"![img_{i}](./image_{i}.png)\\n\"\n",
        "\n",
        "    yaml = f\"\"\"\n",
        "---\n",
        "license: creativeml-openrail-m\n",
        "base_model: {base_model}\n",
        "tags:\n",
        "- stable-diffusion\n",
        "- stable-diffusion-diffusers\n",
        "- text-to-image\n",
        "- diffusers\n",
        "- lora\n",
        "inference: true\n",
        "---\n",
        "    \"\"\"\n",
        "    model_card = f\"\"\"\n",
        "# LoRA text2image fine-tuning - {repo_id}\n",
        "These are LoRA adaption weights for {base_model}. The weights were fine-tuned on the {dataset_name} dataset. You can find some example images in the following. \\n\n",
        "{img_str}\n",
        "\"\"\"\n",
        "    with open(os.path.join(repo_folder, \"README.md\"), \"w\") as f:\n",
        "        f.write(yaml + model_card)"
      ],
      "metadata": {
        "id": "M7s1MqJdvOXi"
      },
      "execution_count": 8,
      "outputs": []
    },
    {
      "cell_type": "code",
      "source": [
        "pretrained_model_name_or_path = \"runwayml/stable-diffusion-v1-5\"\n",
        "#dataset_name = \"lambdalabs/pokemon-blip-captions\"\n",
        "dataset_name = None\n",
        "revision = None\n",
        "#train_data_dir = None\n",
        "### TODO: change it to the directory where you save your images and csv ###\n",
        "train_data_dir = \"/content/drive/MyDrive/cs182-master/emoji_image/emoji\"\n",
        "variant = None\n",
        "dataset_config_name = None\n",
        "image_column = \"image\"\n",
        "caption_column = \"text\"\n",
        "#validation_prompt = \"Totoro\"  # 这个可以多加几个吗，可以用list保存\n",
        "# validation_prompt = [\"grinning face with sweat in Apple style\",\n",
        "#           \"grinning face with sweat in Facebook style\",\n",
        "#           \"grinning face with sweat in Google style\",\n",
        "#           \"grinning face with sweat in JoyPixels style\",\n",
        "#          \"grinning face with sweat in Samsung style\",\n",
        "#         \"grinning face with sweat in Twitter style\",\n",
        "#         \"grinning face with sweat in Windows style\"]\n",
        "validation_prompt = [\"grinning face with sweat in Apple style\"]\n",
        "num_validation_images = 1\n",
        "validation_epochs = 1\n",
        "max_train_samples = None\n",
        "### TODO: change it to the directory where you save your output model ###\n",
        "output_dir = \"/content/drive/MyDrive/huggingface_diffuser/model/checkpoints/\"\n",
        "cache_dir = None\n",
        "resolution = 256\n",
        "center_crop = False\n",
        "random_flip = False\n",
        "train_batch_size = 1\n",
        "gradient_accumulation_steps = 1\n",
        "### TODO: can change those two ###\n",
        "max_train_steps = 15000\n",
        "num_train_epochs = 100\n",
        "gradient_checkpointing = False\n",
        "learning_rate = 1e-4\n",
        "scale_lr = False\n",
        "lr_scheduler = \"cosine\"\n",
        "lr_warmup_steps = 0\n",
        "snr_gamma = None\n",
        "use_8bit_adam = False\n",
        "allow_tf32 = False\n",
        "dataloader_num_workers = 2\n",
        "adam_beta1 = 0.9\n",
        "adam_beta2 = 0.999\n",
        "adam_weight_decay = 1e-2\n",
        "adam_epsilon = 1e-08\n",
        "max_grad_norm = 1\n",
        "push_to_hub = False\n",
        "hub_model_id = None\n",
        "prediction_type = None\n",
        "mixed_precision = \"fp16\"\n",
        "report_to = \"wandb\" # tensorborad\n",
        "local_rank = -1\n",
        "### TODO: you can change it ###\n",
        "checkpointing_steps = 500\n",
        "checkpoints_total_limit = None\n",
        "# \"Whether training should be resumed from a previous checkpoint. Use a path saved by\"\n",
        "           # ' `--checkpointing_steps`, or `\"latest\"` to automatically select the last available checkpoint.'\n",
        "resume_from_checkpoint = None\n",
        "enable_xformers_memory_efficient_attention = False\n",
        "noise_offset = 0\n",
        "logging_dir = \"logs\"\n",
        "# TODO: lora rank ; we need to run different experiments on that ###\n",
        "rank = 4\n",
        "seed = 1337\n",
        "# DATASET_NAME_MAPPING = { #可能需要改 因为是不同的dataset了\n",
        "#     \"lambdalabs/pokemon-blip-captions\": (\"image\", \"text\"),\n",
        "# }\n",
        "DATASET_NAME_MAPPING = { #可能需要改 因为是不同的dataset了\n",
        "    train_data_dir: (\"image\", \"text\"),\n",
        "}"
      ],
      "metadata": {
        "id": "btvbGjaswb55"
      },
      "execution_count": 9,
      "outputs": []
    },
    {
      "cell_type": "code",
      "source": [
        "set_seed(seed)\n",
        "# Load scheduler, tokenizer and models.\n",
        "# 将pretrained diffusion model 的各个部分都load进来\n",
        "noise_scheduler = DDPMScheduler.from_pretrained(pretrained_model_name_or_path, subfolder=\"scheduler\")\n",
        "tokenizer = CLIPTokenizer.from_pretrained(\n",
        "    pretrained_model_name_or_path, subfolder=\"tokenizer\", revision=revision\n",
        ")\n",
        "text_encoder = CLIPTextModel.from_pretrained(\n",
        "    pretrained_model_name_or_path, subfolder=\"text_encoder\", revision=revision\n",
        ")\n",
        "vae = AutoencoderKL.from_pretrained(\n",
        "    pretrained_model_name_or_path, subfolder=\"vae\", revision=revision, variant=variant\n",
        ")\n",
        "unet = UNet2DConditionModel.from_pretrained(\n",
        "    pretrained_model_name_or_path, subfolder=\"unet\", revision=revision, variant=variant\n",
        ")\n",
        "# freeze parameters of models to save more memory\n",
        "# 即我们不需要改Model原先的parameters,我们只需要改lora层的parameters\n",
        "unet.requires_grad_(False)\n",
        "vae.requires_grad_(False)\n",
        "text_encoder.requires_grad_(False)\n"
      ],
      "metadata": {
        "colab": {
          "base_uri": "https://localhost:8080/"
        },
        "id": "O5pFHh1hw7Kw",
        "outputId": "98ce585f-9e73-415c-bff8-778b2b481483"
      },
      "execution_count": 10,
      "outputs": [
        {
          "output_type": "execute_result",
          "data": {
            "text/plain": [
              "CLIPTextModel(\n",
              "  (text_model): CLIPTextTransformer(\n",
              "    (embeddings): CLIPTextEmbeddings(\n",
              "      (token_embedding): Embedding(49408, 768)\n",
              "      (position_embedding): Embedding(77, 768)\n",
              "    )\n",
              "    (encoder): CLIPEncoder(\n",
              "      (layers): ModuleList(\n",
              "        (0-11): 12 x CLIPEncoderLayer(\n",
              "          (self_attn): CLIPAttention(\n",
              "            (k_proj): Linear(in_features=768, out_features=768, bias=True)\n",
              "            (v_proj): Linear(in_features=768, out_features=768, bias=True)\n",
              "            (q_proj): Linear(in_features=768, out_features=768, bias=True)\n",
              "            (out_proj): Linear(in_features=768, out_features=768, bias=True)\n",
              "          )\n",
              "          (layer_norm1): LayerNorm((768,), eps=1e-05, elementwise_affine=True)\n",
              "          (mlp): CLIPMLP(\n",
              "            (activation_fn): QuickGELUActivation()\n",
              "            (fc1): Linear(in_features=768, out_features=3072, bias=True)\n",
              "            (fc2): Linear(in_features=3072, out_features=768, bias=True)\n",
              "          )\n",
              "          (layer_norm2): LayerNorm((768,), eps=1e-05, elementwise_affine=True)\n",
              "        )\n",
              "      )\n",
              "    )\n",
              "    (final_layer_norm): LayerNorm((768,), eps=1e-05, elementwise_affine=True)\n",
              "  )\n",
              ")"
            ]
          },
          "metadata": {},
          "execution_count": 10
        }
      ]
    },
    {
      "cell_type": "code",
      "source": [
        "# 开始finetune!!! 调整的是unet中的weights!\n",
        "# now we will add new LoRA weights to the attention layers\n",
        "# It's important to realize here how many attention weights will be added and of which sizes\n",
        "# The sizes of the attention layers consist only of two different variables:\n",
        "\n",
        "# 1) - the \"hidden_size\", which is increased according to `unet.config.block_out_channels`.\n",
        "# 2) - the \"cross attention size\", which is set to `unet.config.cross_attention_dim`.\n",
        "\n",
        "# Let's first see how many attention processors we will have to set.\n",
        "# For Stable Diffusion, it should be equal to:\n",
        "# - down blocks (2x attention layers) * (2x transformer layers) * (3x down blocks) = 12\n",
        "# - mid blocks (2x attention layers) * (1x transformer layers) * (1x mid blocks) = 2\n",
        "# - up blocks (2x attention layers) * (3x transformer layers) * (3x down blocks) = 18\n",
        "# => 32 layers\n",
        "\n",
        "# Set correct lora layers\n",
        "unet_lora_parameters = []\n",
        "# attn_processor_name is the key\n",
        "# attn_processor is the value\n",
        "for attn_processor_name, attn_processor in unet.attn_processors.items():\n",
        "    # Parse the attention module.\n",
        "    attn_module = unet\n",
        "    for n in attn_processor_name.split(\".\")[:-1]:\n",
        "        attn_module = getattr(attn_module, n)\n",
        "\n",
        "    # Set the `lora_layer` attribute of the attention-related matrices.\n",
        "    attn_module.to_q.set_lora_layer(\n",
        "        LoRALinearLayer(\n",
        "            in_features=attn_module.to_q.in_features, out_features=attn_module.to_q.out_features, rank=rank\n",
        "        )\n",
        "    )\n",
        "    attn_module.to_k.set_lora_layer(\n",
        "        LoRALinearLayer(\n",
        "            in_features=attn_module.to_k.in_features, out_features=attn_module.to_k.out_features, rank=rank\n",
        "        )\n",
        "    )\n",
        "\n",
        "    attn_module.to_v.set_lora_layer(\n",
        "        LoRALinearLayer(\n",
        "            in_features=attn_module.to_v.in_features, out_features=attn_module.to_v.out_features, rank=rank\n",
        "        )\n",
        "    )\n",
        "    attn_module.to_out[0].set_lora_layer(\n",
        "        LoRALinearLayer(\n",
        "            in_features=attn_module.to_out[0].in_features,\n",
        "            out_features=attn_module.to_out[0].out_features,\n",
        "            rank=rank,\n",
        "        )\n",
        "    )\n",
        "\n",
        "    # Accumulate the LoRA params to optimize.\n",
        "    unet_lora_parameters.extend(attn_module.to_q.lora_layer.parameters())\n",
        "    unet_lora_parameters.extend(attn_module.to_k.lora_layer.parameters())\n",
        "    unet_lora_parameters.extend(attn_module.to_v.lora_layer.parameters())\n",
        "    unet_lora_parameters.extend(attn_module.to_out[0].lora_layer.parameters())\n",
        "\n",
        "optimizer_cls = torch.optim.AdamW\n",
        "optimizer = optimizer_cls(\n",
        "    unet_lora_parameters,\n",
        "    lr=learning_rate,\n",
        "    betas=(adam_beta1,adam_beta2),\n",
        "    weight_decay=adam_weight_decay,\n",
        "    eps=adam_epsilon,\n",
        ")"
      ],
      "metadata": {
        "id": "tFEg_OTt35c9"
      },
      "execution_count": 11,
      "outputs": []
    },
    {
      "cell_type": "code",
      "source": [
        "from datasets import Dataset\n",
        "import pandas as pd\n",
        "from PIL import Image\n",
        "class ImageCaptionDataset(Dataset):\n",
        "    def __init__(self, csv_file, image_folder, transform=None):\n",
        "        self.df = pd.read_csv(csv_file)\n",
        "        self.image_folder = image_folder\n",
        "        self.transform = transform\n",
        "\n",
        "    def __len__(self):\n",
        "        return len(self.df)\n",
        "\n",
        "    def __getitem__(self, idx):\n",
        "        img_name = os.path.join(self.image_folder, self.df.iloc[idx, 0])\n",
        "        image = Image.open(img_name).convert(\"RGB\")\n",
        "\n",
        "        if self.transform:\n",
        "            image = self.transform(image)\n",
        "\n",
        "        text = self.df.iloc[idx, 1]\n",
        "        print(type(image))\n",
        "        return {\"image\": image, \"text\": text}"
      ],
      "metadata": {
        "id": "YRnG2hLvs2hq"
      },
      "execution_count": 12,
      "outputs": []
    },
    {
      "cell_type": "code",
      "source": [
        "def convert_to_hf_dataset(dataset):\n",
        "    hf_dataset = Dataset.from_pandas(dataset.df)\n",
        "    return hf_dataset\n",
        "\n",
        "# Preprocessing the datasets.\n",
        "# We need to tokenize input captions and transform the images.\n",
        "def tokenize_captions(examples, is_train=True):\n",
        "    captions = []\n",
        "    for caption in examples[caption_column]:\n",
        "        if isinstance(caption, str):\n",
        "            captions.append(caption)\n",
        "        elif isinstance(caption, (list, np.ndarray)):\n",
        "            # take a random caption if there are multiple\n",
        "            captions.append(random.choice(caption) if is_train else caption[0])\n",
        "        else:\n",
        "            raise ValueError(\n",
        "                f\"Caption column `{caption_column}` should contain either strings or lists of strings.\"\n",
        "            )\n",
        "    inputs = tokenizer(\n",
        "        captions, max_length=tokenizer.model_max_length, padding=\"max_length\", truncation=True, return_tensors=\"pt\"\n",
        "    )\n",
        "    return inputs.input_ids\n",
        "\n",
        "def collate_fn(examples):\n",
        "    pixel_values = torch.stack([example[\"pixel_values\"] for example in examples])\n",
        "    pixel_values = pixel_values.to(memory_format=torch.contiguous_format).float()\n",
        "    input_ids = torch.stack([example[\"input_ids\"] for example in examples])\n",
        "    return {\"pixel_values\": pixel_values, \"input_ids\": input_ids}"
      ],
      "metadata": {
        "id": "13R31RBnty5b"
      },
      "execution_count": 13,
      "outputs": []
    },
    {
      "cell_type": "code",
      "source": [
        "# construct train and validation dataset\n",
        "# TODO: image_folder is the place where images stored; csv should be in the same dir with images\n",
        "csv_path = \"/content/drive/MyDrive/cs182-master/emoji_image/train/emoji_png.csv\"\n",
        "image_folder = \"/content/drive/MyDrive/cs182-master/emoji_image/train/\"\n",
        "csv_path_valid = \"/content/drive/MyDrive/cs182-master/emoji_image/validation/valid.csv\"\n",
        "image_folder_valid = \"/content/drive/MyDrive/cs182-master/emoji_image/validation/\"\n",
        "dataset = ImageCaptionDataset(csv_file=csv_path, image_folder=image_folder, transform=transforms.ToTensor())\n",
        "valid_dataset = ImageCaptionDataset(csv_file=csv_path_valid, image_folder=image_folder_valid, transform=transforms.ToTensor())\n",
        "dataset = convert_to_hf_dataset(dataset)\n",
        "valid_dataset = convert_to_hf_dataset(valid_dataset)\n",
        "\n",
        "# Preprocessing the datasets.\n",
        "train_transforms = transforms.Compose(\n",
        "    [\n",
        "        transforms.Resize(resolution, interpolation=transforms.InterpolationMode.BILINEAR),\n",
        "        transforms.CenterCrop(resolution) if center_crop else transforms.RandomCrop(resolution),\n",
        "        transforms.RandomHorizontalFlip() if random_flip else transforms.Lambda(lambda x: x),\n",
        "        transforms.ToTensor(),\n",
        "        transforms.Normalize([0.5], [0.5]),\n",
        "    ]\n",
        ")\n",
        "\n",
        "\n",
        "def preprocess_train(examples):\n",
        "    images = [Image.open(image_folder+image).convert(\"RGB\") for image in examples[image_column]]\n",
        "    examples[\"pixel_values\"] = [train_transforms(image) for image in images]\n",
        "    examples[\"input_ids\"] = tokenize_captions(examples)\n",
        "    return examples\n",
        "\n",
        "\n",
        "def preprocess_valid(examples):\n",
        "    images = [Image.open(image_folder_valid+image).convert(\"RGB\") for image in examples[image_column]]\n",
        "    examples[\"pixel_values\"] = [train_transforms(image) for image in images]\n",
        "    examples[\"input_ids\"] = tokenize_captions(examples)\n",
        "    return examples\n",
        "\n",
        "# Set the training transforms\n",
        "train_dataset = dataset.with_transform(preprocess_train)\n",
        "valid_dataset = valid_dataset.with_transform(preprocess_valid)"
      ],
      "metadata": {
        "id": "yrz2v11LtABJ"
      },
      "execution_count": 14,
      "outputs": []
    },
    {
      "cell_type": "code",
      "source": [
        "# DataLoaders creation:\n",
        "train_dataloader = torch.utils.data.DataLoader(\n",
        "    train_dataset,\n",
        "    shuffle=True,\n",
        "    collate_fn=collate_fn,\n",
        "    batch_size=train_batch_size,\n",
        "    num_workers=dataloader_num_workers,\n",
        ")\n",
        "\n",
        "valid_dataloader = torch.utils.data.DataLoader(\n",
        "    valid_dataset,\n",
        "    shuffle=False,\n",
        "    collate_fn=collate_fn,\n",
        "    batch_size=1,\n",
        "    num_workers=dataloader_num_workers,\n",
        ")\n",
        "\n",
        "# set learning rate scheduler\n",
        "lr_scheduler = get_scheduler(\n",
        "    # lr_scheduler=lr_scheduler,\n",
        "    \"cosine\",\n",
        "    optimizer=optimizer,\n",
        "    num_warmup_steps=lr_warmup_steps,\n",
        "    num_training_steps=max_train_steps,\n",
        ")\n"
      ],
      "metadata": {
        "id": "TW29fE8T5AC_"
      },
      "execution_count": 15,
      "outputs": []
    },
    {
      "cell_type": "code",
      "source": [
        "trainning_loss = []"
      ],
      "metadata": {
        "id": "dkUpHodhKmE5"
      },
      "execution_count": 16,
      "outputs": []
    },
    {
      "cell_type": "code",
      "source": [
        "wandb.init()"
      ],
      "metadata": {
        "colab": {
          "base_uri": "https://localhost:8080/",
          "height": 749,
          "referenced_widgets": [
            "a675df7fedef4becba83b12c6ed64220",
            "1d939bc30d344e4e826c60e72482da47",
            "b07c6dc3b5d248bc88f8284e140d897c",
            "e01c81f3dfbf43ca8a18165febc89017",
            "93d243318a354ef28970daf4be8aeee7",
            "6e19cc7f5aa9409f96f34d74b1f80e3f",
            "dc777eb9a7a546588509f68ab457b0d3",
            "0c0e75a775b34be493161a12f4f56770"
          ]
        },
        "id": "CcunvSPFZr6V",
        "outputId": "52da65a1-5064-44b2-e2f8-8748f0b391db"
      },
      "execution_count": 21,
      "outputs": [
        {
          "output_type": "display_data",
          "data": {
            "text/plain": [
              "<IPython.core.display.HTML object>"
            ],
            "text/html": [
              "Finishing last run (ID:hjhu1h5i) before initializing another..."
            ]
          },
          "metadata": {}
        },
        {
          "output_type": "display_data",
          "data": {
            "text/plain": [
              "VBox(children=(Label(value='6.746 MB of 6.746 MB uploaded\\r'), FloatProgress(value=1.0, max=1.0)))"
            ],
            "application/vnd.jupyter.widget-view+json": {
              "version_major": 2,
              "version_minor": 0,
              "model_id": "a675df7fedef4becba83b12c6ed64220"
            }
          },
          "metadata": {}
        },
        {
          "output_type": "display_data",
          "data": {
            "text/plain": [
              "<IPython.core.display.HTML object>"
            ],
            "text/html": [
              "<style>\n",
              "    table.wandb td:nth-child(1) { padding: 0 10px; text-align: left ; width: auto;} td:nth-child(2) {text-align: left ; width: 100%}\n",
              "    .wandb-row { display: flex; flex-direction: row; flex-wrap: wrap; justify-content: flex-start; width: 100% }\n",
              "    .wandb-col { display: flex; flex-direction: column; flex-basis: 100%; flex: 1; padding: 10px; }\n",
              "    </style>\n",
              "<div class=\"wandb-row\"><div class=\"wandb-col\"><h3>Run history:</h3><br/><table class=\"wandb\"><tr><td>loss</td><td>▃▁▄▅▁█▁▃</td></tr><tr><td>valid_loss</td><td>▇█▃▇▆▁▃</td></tr></table><br/></div><div class=\"wandb-col\"><h3>Run summary:</h3><br/><table class=\"wandb\"><tr><td>loss</td><td>0.07367</td></tr><tr><td>valid_loss</td><td>0.08143</td></tr></table><br/></div></div>"
            ]
          },
          "metadata": {}
        },
        {
          "output_type": "display_data",
          "data": {
            "text/plain": [
              "<IPython.core.display.HTML object>"
            ],
            "text/html": [
              " View run <strong style=\"color:#cdcd00\">fluent-totem-9</strong> at: <a href='https://wandb.ai/cs182_xiaochy/diffusers-examples_text_to_image/runs/hjhu1h5i' target=\"_blank\">https://wandb.ai/cs182_xiaochy/diffusers-examples_text_to_image/runs/hjhu1h5i</a><br/>Synced 5 W&B file(s), 1 media file(s), 0 artifact file(s) and 1 other file(s)"
            ]
          },
          "metadata": {}
        },
        {
          "output_type": "display_data",
          "data": {
            "text/plain": [
              "<IPython.core.display.HTML object>"
            ],
            "text/html": [
              "Find logs at: <code>./wandb/run-20231130_103753-hjhu1h5i/logs</code>"
            ]
          },
          "metadata": {}
        },
        {
          "output_type": "display_data",
          "data": {
            "text/plain": [
              "<IPython.core.display.HTML object>"
            ],
            "text/html": [
              "Successfully finished last run (ID:hjhu1h5i). Initializing new run:<br/>"
            ]
          },
          "metadata": {}
        },
        {
          "output_type": "display_data",
          "data": {
            "text/plain": [
              "<IPython.core.display.HTML object>"
            ],
            "text/html": [
              "Tracking run with wandb version 0.16.0"
            ]
          },
          "metadata": {}
        },
        {
          "output_type": "display_data",
          "data": {
            "text/plain": [
              "<IPython.core.display.HTML object>"
            ],
            "text/html": [
              "Run data is saved locally in <code>/content/diffusers/examples/text_to_image/wandb/run-20231130_104213-81gagc05</code>"
            ]
          },
          "metadata": {}
        },
        {
          "output_type": "display_data",
          "data": {
            "text/plain": [
              "<IPython.core.display.HTML object>"
            ],
            "text/html": [
              "Syncing run <strong><a href='https://wandb.ai/cs182_xiaochy/diffusers-examples_text_to_image/runs/81gagc05' target=\"_blank\">visionary-glitter-10</a></strong> to <a href='https://wandb.ai/cs182_xiaochy/diffusers-examples_text_to_image' target=\"_blank\">Weights & Biases</a> (<a href='https://wandb.me/run' target=\"_blank\">docs</a>)<br/>"
            ]
          },
          "metadata": {}
        },
        {
          "output_type": "display_data",
          "data": {
            "text/plain": [
              "<IPython.core.display.HTML object>"
            ],
            "text/html": [
              " View project at <a href='https://wandb.ai/cs182_xiaochy/diffusers-examples_text_to_image' target=\"_blank\">https://wandb.ai/cs182_xiaochy/diffusers-examples_text_to_image</a>"
            ]
          },
          "metadata": {}
        },
        {
          "output_type": "display_data",
          "data": {
            "text/plain": [
              "<IPython.core.display.HTML object>"
            ],
            "text/html": [
              " View run at <a href='https://wandb.ai/cs182_xiaochy/diffusers-examples_text_to_image/runs/81gagc05' target=\"_blank\">https://wandb.ai/cs182_xiaochy/diffusers-examples_text_to_image/runs/81gagc05</a>"
            ]
          },
          "metadata": {}
        },
        {
          "output_type": "execute_result",
          "data": {
            "text/html": [
              "<button onClick=\"this.nextSibling.style.display='block';this.style.display='none';\">Display W&B run</button><iframe src='https://wandb.ai/cs182_xiaochy/diffusers-examples_text_to_image/runs/81gagc05?jupyter=true' style='border:none;width:100%;height:420px;display:none;'></iframe>"
            ],
            "text/plain": [
              "<wandb.sdk.wandb_run.Run at 0x794b434bc760>"
            ]
          },
          "metadata": {},
          "execution_count": 21
        }
      ]
    },
    {
      "cell_type": "code",
      "source": [
        "PROJECT_NAME = \"diffusers-examples_text_to_image\"\n",
        "CHECKPOINT_PATH = \"/content/drive/MyDrive/huggingface_diffuser/model/checkpoints/checkpoint.tar\"\n",
        "run = wandb.init(project=PROJECT_NAME, resume=True)\n",
        "if wandb.run.resumed:\n",
        "    checkpoint = torch.load(wandb.restore(CHECKPOINT_PATH))\n",
        "    unet_path = checkpoint[\"unet\"]\n",
        "    unet.load_attn_procs(unet_path)\n",
        "    optimizer.load_state_dict(checkpoint[\"optimizer_state_dict\"])\n",
        "    epoch = checkpoint[\"epoch\"]\n",
        "    loss = checkpoint[\"loss\"]\n",
        "    batch = checkpoint[\"batch\"]\n",
        "\n"
      ],
      "metadata": {
        "colab": {
          "base_uri": "https://localhost:8080/",
          "height": 329,
          "referenced_widgets": [
            "103b8bf75ff14eb7ab883e99f67b9c3f",
            "7391622ad2224830a58707cec303de31",
            "34a1d6c4289947b39bfef17dd929c203",
            "8081e5de2fdc4a399fc38dd3cbb79bbb",
            "f4bbc5168449445999060e09e178e7dd",
            "490e9b7d89534004a254fa587d2ba025",
            "5d141cb100cb4c70a032a1a18eb71cd6",
            "8223df766c4949b582082d056f81b921"
          ]
        },
        "id": "UlLRnwOlDQHA",
        "outputId": "d6a18fc6-7189-4157-a2b6-5c130d5558d1"
      },
      "execution_count": 19,
      "outputs": [
        {
          "output_type": "display_data",
          "data": {
            "text/plain": [
              "<IPython.core.display.HTML object>"
            ],
            "text/html": [
              "Finishing last run (ID:4kzhj0fl) before initializing another..."
            ]
          },
          "metadata": {}
        },
        {
          "output_type": "display_data",
          "data": {
            "text/plain": [
              "VBox(children=(Label(value='0.001 MB of 0.001 MB uploaded\\r'), FloatProgress(value=1.0, max=1.0)))"
            ],
            "application/vnd.jupyter.widget-view+json": {
              "version_major": 2,
              "version_minor": 0,
              "model_id": "103b8bf75ff14eb7ab883e99f67b9c3f"
            }
          },
          "metadata": {}
        },
        {
          "output_type": "display_data",
          "data": {
            "text/plain": [
              "<IPython.core.display.HTML object>"
            ],
            "text/html": [
              "<style>\n",
              "    table.wandb td:nth-child(1) { padding: 0 10px; text-align: left ; width: auto;} td:nth-child(2) {text-align: left ; width: 100%}\n",
              "    .wandb-row { display: flex; flex-direction: row; flex-wrap: wrap; justify-content: flex-start; width: 100% }\n",
              "    .wandb-col { display: flex; flex-direction: column; flex-basis: 100%; flex: 1; padding: 10px; }\n",
              "    </style>\n",
              "<div class=\"wandb-row\"><div class=\"wandb-col\"><h3>Run history:</h3><br/><table class=\"wandb\"><tr><td>loss</td><td>█▁</td></tr><tr><td>valid_loss</td><td>█▅▆▂▁▅▆</td></tr></table><br/></div><div class=\"wandb-col\"><h3>Run summary:</h3><br/><table class=\"wandb\"><tr><td>loss</td><td>0.00883</td></tr><tr><td>valid_loss</td><td>0.04616</td></tr></table><br/></div></div>"
            ]
          },
          "metadata": {}
        },
        {
          "output_type": "display_data",
          "data": {
            "text/plain": [
              "<IPython.core.display.HTML object>"
            ],
            "text/html": [
              " View run <strong style=\"color:#cdcd00\">comic-durian-8</strong> at: <a href='https://wandb.ai/cs182_xiaochy/diffusers-examples_text_to_image/runs/4kzhj0fl' target=\"_blank\">https://wandb.ai/cs182_xiaochy/diffusers-examples_text_to_image/runs/4kzhj0fl</a><br/>Synced 5 W&B file(s), 0 media file(s), 0 artifact file(s) and 0 other file(s)"
            ]
          },
          "metadata": {}
        },
        {
          "output_type": "display_data",
          "data": {
            "text/plain": [
              "<IPython.core.display.HTML object>"
            ],
            "text/html": [
              "Find logs at: <code>./wandb/run-20231130_103515-4kzhj0fl/logs</code>"
            ]
          },
          "metadata": {}
        },
        {
          "output_type": "display_data",
          "data": {
            "text/plain": [
              "<IPython.core.display.HTML object>"
            ],
            "text/html": [
              "Successfully finished last run (ID:4kzhj0fl). Initializing new run:<br/>"
            ]
          },
          "metadata": {}
        },
        {
          "output_type": "display_data",
          "data": {
            "text/plain": [
              "<IPython.core.display.HTML object>"
            ],
            "text/html": [
              "Tracking run with wandb version 0.16.0"
            ]
          },
          "metadata": {}
        },
        {
          "output_type": "display_data",
          "data": {
            "text/plain": [
              "<IPython.core.display.HTML object>"
            ],
            "text/html": [
              "Run data is saved locally in <code>/content/diffusers/examples/text_to_image/wandb/run-20231130_103753-hjhu1h5i</code>"
            ]
          },
          "metadata": {}
        },
        {
          "output_type": "display_data",
          "data": {
            "text/plain": [
              "<IPython.core.display.HTML object>"
            ],
            "text/html": [
              "Syncing run <strong><a href='https://wandb.ai/cs182_xiaochy/diffusers-examples_text_to_image/runs/hjhu1h5i' target=\"_blank\">fluent-totem-9</a></strong> to <a href='https://wandb.ai/cs182_xiaochy/diffusers-examples_text_to_image' target=\"_blank\">Weights & Biases</a> (<a href='https://wandb.me/run' target=\"_blank\">docs</a>)<br/>"
            ]
          },
          "metadata": {}
        },
        {
          "output_type": "display_data",
          "data": {
            "text/plain": [
              "<IPython.core.display.HTML object>"
            ],
            "text/html": [
              " View project at <a href='https://wandb.ai/cs182_xiaochy/diffusers-examples_text_to_image' target=\"_blank\">https://wandb.ai/cs182_xiaochy/diffusers-examples_text_to_image</a>"
            ]
          },
          "metadata": {}
        },
        {
          "output_type": "display_data",
          "data": {
            "text/plain": [
              "<IPython.core.display.HTML object>"
            ],
            "text/html": [
              " View run at <a href='https://wandb.ai/cs182_xiaochy/diffusers-examples_text_to_image/runs/hjhu1h5i' target=\"_blank\">https://wandb.ai/cs182_xiaochy/diffusers-examples_text_to_image/runs/hjhu1h5i</a>"
            ]
          },
          "metadata": {}
        }
      ]
    },
    {
      "cell_type": "code",
      "source": [
        "# Train!\n",
        "# total_batch_size = train_batch_size * accelerator.num_processes * gradient_accumulation_steps\n",
        "total_batch_size = train_batch_size * gradient_accumulation_steps\n",
        "\n",
        "max_train_steps = 10000\n",
        "\n",
        "progress_bar = tqdm(\n",
        "    range(0, max_train_steps),\n",
        "    initial=0,\n",
        "    desc=\"Steps\",\n",
        "    # Only show the progress bar once on each machine.\n",
        "    #disable=not accelerator.is_local_main_process,\n",
        ")\n",
        "\n",
        "# Load previous pipeline\n",
        "pipeline = DiffusionPipeline.from_pretrained(\n",
        "    pretrained_model_name_or_path,\n",
        "    safety_checker=None\n",
        ").to(\"cuda\")\n",
        "max_epoch = 10 #5\n",
        "for epoch in range(max_epoch):\n",
        "    unet.train()\n",
        "    for step, batch in enumerate(train_dataloader):\n",
        "      # Convert images to latent space\n",
        "      latents = vae.encode(batch[\"pixel_values\"]).latent_dist.sample()\n",
        "      latents = latents * vae.config.scaling_factor\n",
        "      # Sample noise that we'll add to the latents\n",
        "      noise = torch.randn_like(latents)\n",
        "      bsz = latents.shape[0]\n",
        "      # Sample a random timestep for each image\n",
        "      timesteps = torch.randint(0, noise_scheduler.config.num_train_timesteps, (bsz,), device=latents.device)\n",
        "      timesteps = timesteps.long()\n",
        "\n",
        "      # Add noise to the latents according to the noise magnitude at each timestep\n",
        "      # (this is the forward diffusion process)\n",
        "      noisy_latents = noise_scheduler.add_noise(latents, noise, timesteps)\n",
        "      # Get the text embedding for conditioning\n",
        "      encoder_hidden_states = text_encoder(batch[\"input_ids\"])[0]\n",
        "\n",
        "      # Get the target for loss depending on the prediction type\n",
        "      if prediction_type is not None:\n",
        "          # set prediction_type of scheduler if defined\n",
        "          noise_scheduler.register_to_config(prediction_type=prediction_type)\n",
        "\n",
        "      if noise_scheduler.config.prediction_type == \"epsilon\":\n",
        "          target = noise\n",
        "      elif noise_scheduler.config.prediction_type == \"v_prediction\":\n",
        "          target = noise_scheduler.get_velocity(latents, noise, timesteps)\n",
        "      else:\n",
        "          raise ValueError(f\"Unknown prediction type {noise_scheduler.config.prediction_type}\")\n",
        "\n",
        "      # draw validation loss\n",
        "      valid_loss = 0.0\n",
        "      valid_size = 7\n",
        "      if step % 49 == 1:\n",
        "        unet.eval()\n",
        "        for _ , valid_batch in enumerate(valid_dataloader):\n",
        "          # Convert images to latent space\n",
        "          valid_latents = vae.encode(valid_batch[\"pixel_values\"]).latent_dist.sample()\n",
        "          valid_latents = valid_latents * vae.config.scaling_factor\n",
        "          valid_noise = torch.randn_like(valid_latents)\n",
        "          valid_bsz = valid_latents.shape[0]\n",
        "          # Sample a random timestep for each image\n",
        "          valid_timesteps = torch.randint(0, noise_scheduler.config.num_train_timesteps, (valid_bsz,), device=valid_latents.device)\n",
        "          valid_timesteps = timesteps.long()\n",
        "\n",
        "          # Add noise to the latents according to the noise magnitude at each timestep\n",
        "          # (this is the forward diffusion process)\n",
        "          valid_noisy_latents = noise_scheduler.add_noise(valid_latents, valid_noise, valid_timesteps)\n",
        "          # Get the text embedding for conditioning\n",
        "          valid_encoder_hidden_states = text_encoder(valid_batch[\"input_ids\"])[0]\n",
        "\n",
        "          # Get the target for loss depending on the prediction type\n",
        "          if prediction_type is not None:\n",
        "              # set prediction_type of scheduler if defined\n",
        "              noise_scheduler.register_to_config(prediction_type=prediction_type)\n",
        "\n",
        "          if noise_scheduler.config.prediction_type == \"epsilon\":\n",
        "              valid_target = valid_noise\n",
        "          elif noise_scheduler.config.prediction_type == \"v_prediction\":\n",
        "              valid_target = noise_scheduler.get_velocity(valid_latents, valid_noise, valid_timesteps)\n",
        "          else:\n",
        "              raise ValueError(f\"Unknown prediction type {noise_scheduler.config.prediction_type}\")\n",
        "\n",
        "          valid_model_pred = unet(valid_noisy_latents, valid_timesteps, valid_encoder_hidden_states).sample\n",
        "          valid_loss += F.mse_loss(valid_model_pred.float(), valid_target.float(), reduction=\"mean\")\n",
        "        print(\"valid_loss = \"+str(valid_loss/valid_size))\n",
        "        wandb.log({\"valid_loss\": valid_loss/valid_size})\n",
        "\n",
        "      #unet.train()\n",
        "      # Predict the noise residual and compute loss\n",
        "      model_pred = unet(noisy_latents, timesteps, encoder_hidden_states).sample\n",
        "      loss = F.mse_loss(model_pred.float(), target.float(), reduction=\"mean\")\n",
        "      #print(target.float())\n",
        "      #print(model_pred.float())\n",
        "      # Backpropagate\n",
        "      loss.backward()\n",
        "      #trainning_loss.append(loss.item())\n",
        "      optimizer.step()\n",
        "      lr_scheduler.step()\n",
        "      optimizer.zero_grad()\n",
        "      progress_bar.update(1)\n",
        "      print(\"loss = \"+str(loss.item()))\n",
        "      wandb.log({\"loss\": loss})\n",
        "      if step % 230 == 1: #修改！！！\n",
        "        unet.save_attn_procs(output_dir+f\"epoch_{epoch+1}_batch_{step+1}\")\n",
        "        unet.save_attn_procs(output_dir+f\"latest\")\n",
        "        # Save our checkpoint loc\n",
        "        torch.save(\n",
        "            {\n",
        "                \"epoch\": epoch,\n",
        "                \"unet\": output_dir+f\"latest\",\n",
        "                \"optimizer_state_dict\": optimizer.state_dict(),\n",
        "                \"loss\": loss,\n",
        "                \"batch\": step,\n",
        "            },\n",
        "            CHECKPOINT_PATH,\n",
        "        )\n",
        "        wandb.save(CHECKPOINT_PATH)\n",
        "        # load attention processors\n",
        "        pipeline.unet.load_attn_procs(output_dir+f\"latest\")\n",
        "\n",
        "        # run inference\n",
        "        generator = torch.Generator()\n",
        "        if seed is not None:\n",
        "            generator = generator.manual_seed(seed)\n",
        "        images = []\n",
        "        for i in range(num_validation_images):\n",
        "            images.append(pipeline(validation_prompt[i], num_inference_steps=30, generator=generator).images[0])\n",
        "        wandb.log({\"validation\": [wandb.Image(image, caption=f\"{i}: {validation_prompt[i]}\")for i, image in enumerate(images)]})\n",
        "\n",
        "    # # Load previous pipeline\n",
        "    # pipeline = DiffusionPipeline.from_pretrained(\n",
        "    #     pretrained_model_name_or_path\n",
        "    # )\n",
        "    # # load attention processors\n",
        "    # pipeline.unet.load_attn_procs(output_dir+f\"latest\")\n",
        "\n",
        "    # # run inference\n",
        "    # generator = torch.Generator()\n",
        "    # if seed is not None:\n",
        "    #     generator = generator.manual_seed(seed)\n",
        "    # images = []\n",
        "    # for _ in range(num_validation_images):\n",
        "    #     images.append(pipeline(validation_prompt, num_inference_steps=30, generator=generator).images[0])\n",
        "    # wandb.log({\"validation\": [wandb.Image(image, caption=f\"{i}: {validation_prompt}\")for i, image in enumerate(images)]})\n",
        "\n",
        "\n",
        "unet = unet.to(torch.float32)\n",
        "unet.save_attn_procs(output_dir)\n",
        "\n",
        "\n",
        "# # Final inference\n",
        "# # Load previous pipeline\n",
        "# pipeline = DiffusionPipeline.from_pretrained(\n",
        "#     pretrained_model_name_or_path,\n",
        "#     safety_checker=None\n",
        "# )\n",
        "# # load attention processors\n",
        "# pipeline.unet.load_attn_procs(output_dir)\n",
        "\n",
        "# # run inference\n",
        "# generator = torch.Generator()\n",
        "# if seed is not None:\n",
        "#     generator = generator.manual_seed(seed)\n",
        "# images = []\n",
        "\n",
        "# for _ in range(num_validation_images):\n",
        "#   # 如果这里要改为多个prompt 后面可能就不能加[0]?\n",
        "#     images.append(pipeline(validation_prompt, num_inference_steps=30, generator=generator).images[0])\n",
        "# wandb.log({\"validation\": [wandb.Image(image, caption=f\"{i}: {validation_prompt}\")for i, image in enumerate(images)]})\n",
        "\n",
        "# unet = unet.to(torch.float32)\n",
        "#       unet.save_attn_procs(output_dir)\n",
        "#       # Final inference\n",
        "#       # Load previous pipeline\n",
        "#       pipeline = DiffusionPipeline.from_pretrained(\n",
        "#           pretrained_model_name_or_path, revision=revision, variant=variant\n",
        "#       )\n",
        "#       #torch_dtype=weight_dtype\n",
        "#       #pipeline = pipeline.to(accelerator.device)\n",
        "#       # load attention processors\n",
        "#       pipeline.unet.load_attn_procs(output_dir)\n",
        "\n",
        "#       # run inference\n",
        "#       generator = torch.Generator()\n",
        "#       if seed is not None:\n",
        "#           generator = generator.manual_seed(seed)\n",
        "#       images = []\n",
        "#       for _ in range(num_validation_images):\n",
        "#           images.append(pipeline(validation_prompt, num_inference_steps=30, generator=generator).images[0])\n",
        "#       wandb.log({\"validation\": [wandb.Image(image, caption=f\"{i}: {validation_prompt}\")for i, image in enumerate(images)]})\n",
        "# if len(images) != 0:\n",
        "#   np_images = np.stack([np.asarray(img) for img in images])\n",
        "#   writer.add_images(\"test\", np_images, dataformats=\"NHWC\")\n"
      ],
      "metadata": {
        "colab": {
          "base_uri": "https://localhost:8080/",
          "height": 1000,
          "referenced_widgets": [
            "c498cf12d76044ee9a887dcb8c58e7a0",
            "d1c883d72fed4cb7b8a5c96550349495",
            "4ba518eed15641218b707fc46d865451",
            "097cf8b6777f4810b8d104c5adc3fa84",
            "66e9021533294e39a86a9471cd5d8642",
            "f50e209cca9d4791aeaf8e1c0173f806",
            "3807888cec1b40be802ea84dfcffdd23",
            "2f1580400c954c13b839f3775a53c422",
            "5f6f2b3d6830490fb5197b451bfb162d",
            "df54a120ef104e628a5b481e3f53af2f",
            "e5e6cfb9273240ef96867f086db01541",
            "f7018197565e4d9f9d70be54f3fda7ea",
            "5bd770b038c64e6ab2554f14cb359abd",
            "ba26344491cd4867bee9077a544f4717",
            "74ce2212a5f0482b971ee4e66debfc89",
            "afc2fbb330134ac98c4c9c6fa06fe51e",
            "1f2163682f764550afa8f42738b82038",
            "c8262c97ef614740ab4a16144be71857",
            "e14c23db91134ece9df05e7be3a7d259",
            "21b40943d19447579a53474f07c83385",
            "58376ebde5974127a880f04863936f77",
            "c3741258f83742dcbec9184001a4b551",
            "070ba94889b54294ab6a3e58de2a622f",
            "078303c0480a435d8a3bbfaaa0669db0",
            "bd9a38dabe2a49f9b4729afc1bf3b8a0",
            "4fb7dd1282ee4bb1b917433587b158c5",
            "22c3e464f78f43c2b471b51c64d7ac71",
            "17032a30c89446779b65007f33148ff7",
            "82a49d323e5a4d48aa6e52eb378412c2",
            "79d2403907534193a544f9210b4b03e9",
            "ebd4bced89e54798abd359b25acc0763",
            "3b9b3dab2d124ffcb9975cdefd957107",
            "f446e09071364e38a2698aa1ef45208f"
          ]
        },
        "id": "8nx6mAuG5qSk",
        "outputId": "0a0b6326-3bed-4b83-fb3d-46f150d9cd4d"
      },
      "execution_count": null,
      "outputs": [
        {
          "output_type": "display_data",
          "data": {
            "text/plain": [
              "Steps:   0%|          | 0/10000 [00:00<?, ?it/s]"
            ],
            "application/vnd.jupyter.widget-view+json": {
              "version_major": 2,
              "version_minor": 0,
              "model_id": "c498cf12d76044ee9a887dcb8c58e7a0"
            }
          },
          "metadata": {}
        },
        {
          "output_type": "display_data",
          "data": {
            "text/plain": [
              "Loading pipeline components...:   0%|          | 0/6 [00:00<?, ?it/s]"
            ],
            "application/vnd.jupyter.widget-view+json": {
              "version_major": 2,
              "version_minor": 0,
              "model_id": "f7018197565e4d9f9d70be54f3fda7ea"
            }
          },
          "metadata": {}
        },
        {
          "output_type": "stream",
          "name": "stderr",
          "text": [
            "You have disabled the safety checker for <class 'diffusers.pipelines.stable_diffusion.pipeline_stable_diffusion.StableDiffusionPipeline'> by passing `safety_checker=None`. Ensure that you abide to the conditions of the Stable Diffusion license and do not expose unfiltered results in services or applications open to the public. Both the diffusers team and Hugging Face strongly recommend to keep the safety filter enabled in all public facing circumstances, disabling it only for use-cases that involve analyzing network behavior or auditing its results. For more information, please have a look at https://github.com/huggingface/diffusers/pull/254 .\n",
            "/usr/local/lib/python3.10/dist-packages/PIL/Image.py:996: UserWarning: Palette images with Transparency expressed in bytes should be converted to RGBA images\n",
            "  warnings.warn(\n"
          ]
        },
        {
          "output_type": "stream",
          "name": "stdout",
          "text": [
            "valid_loss = 0.0\n",
            "loss = 0.05693934112787247\n"
          ]
        },
        {
          "output_type": "stream",
          "name": "stderr",
          "text": [
            "/usr/local/lib/python3.10/dist-packages/PIL/Image.py:996: UserWarning: Palette images with Transparency expressed in bytes should be converted to RGBA images\n",
            "  warnings.warn(\n",
            "/usr/local/lib/python3.10/dist-packages/PIL/Image.py:996: UserWarning: Palette images with Transparency expressed in bytes should be converted to RGBA images\n",
            "  warnings.warn(\n"
          ]
        },
        {
          "output_type": "stream",
          "name": "stdout",
          "text": [
            "valid_loss = tensor(0.0546, grad_fn=<DivBackward0>)\n",
            "loss = 0.0552372969686985\n"
          ]
        },
        {
          "output_type": "display_data",
          "data": {
            "text/plain": [
              "  0%|          | 0/30 [00:00<?, ?it/s]"
            ],
            "application/vnd.jupyter.widget-view+json": {
              "version_major": 2,
              "version_minor": 0,
              "model_id": "070ba94889b54294ab6a3e58de2a622f"
            }
          },
          "metadata": {}
        },
        {
          "output_type": "stream",
          "name": "stdout",
          "text": [
            "valid_loss = 0.0\n",
            "loss = 0.04885559529066086\n"
          ]
        },
        {
          "output_type": "stream",
          "name": "stderr",
          "text": [
            "/usr/local/lib/python3.10/dist-packages/PIL/Image.py:996: UserWarning: Palette images with Transparency expressed in bytes should be converted to RGBA images\n",
            "  warnings.warn(\n"
          ]
        },
        {
          "output_type": "stream",
          "name": "stdout",
          "text": [
            "valid_loss = 0.0\n",
            "loss = 0.05304291844367981\n",
            "valid_loss = 0.0\n",
            "loss = 0.06023944541811943\n",
            "valid_loss = 0.0\n",
            "loss = 0.01256498135626316\n",
            "valid_loss = 0.0\n",
            "loss = 0.006828822195529938\n",
            "valid_loss = 0.0\n",
            "loss = 0.06473426520824432\n",
            "valid_loss = 0.0\n",
            "loss = 0.16906201839447021\n",
            "valid_loss = 0.0\n",
            "loss = 0.010839816182851791\n",
            "valid_loss = 0.0\n",
            "loss = 0.0688912644982338\n",
            "valid_loss = 0.0\n",
            "loss = 0.05654656141996384\n",
            "valid_loss = 0.0\n",
            "loss = 0.01397246215492487\n",
            "valid_loss = 0.0\n",
            "loss = 0.06346847116947174\n",
            "valid_loss = 0.0\n",
            "loss = 0.004313070792704821\n",
            "valid_loss = 0.0\n",
            "loss = 0.04244039207696915\n",
            "valid_loss = 0.0\n",
            "loss = 0.0396122969686985\n",
            "valid_loss = 0.0\n",
            "loss = 0.003015730530023575\n",
            "valid_loss = 0.0\n",
            "loss = 0.11501437425613403\n",
            "valid_loss = 0.0\n",
            "loss = 0.01833273284137249\n",
            "valid_loss = 0.0\n",
            "loss = 0.04172492399811745\n",
            "valid_loss = 0.0\n",
            "loss = 0.04982658848166466\n",
            "valid_loss = 0.0\n",
            "loss = 0.02504037134349346\n",
            "valid_loss = 0.0\n",
            "loss = 0.03867310285568237\n",
            "valid_loss = 0.0\n",
            "loss = 0.10596384853124619\n",
            "valid_loss = 0.0\n",
            "loss = 0.053331971168518066\n",
            "valid_loss = 0.0\n",
            "loss = 0.18094086647033691\n",
            "valid_loss = 0.0\n",
            "loss = 0.012801519595086575\n",
            "valid_loss = 0.0\n",
            "loss = 0.10694754123687744\n",
            "valid_loss = 0.0\n",
            "loss = 0.01984216272830963\n",
            "valid_loss = 0.0\n",
            "loss = 0.05345356464385986\n",
            "valid_loss = 0.0\n",
            "loss = 0.08104506880044937\n",
            "valid_loss = 0.0\n",
            "loss = 0.006005559116601944\n",
            "valid_loss = 0.0\n",
            "loss = 0.11202488839626312\n",
            "valid_loss = 0.0\n",
            "loss = 0.058682411909103394\n",
            "valid_loss = 0.0\n",
            "loss = 0.08756349980831146\n",
            "valid_loss = 0.0\n",
            "loss = 0.03664518892765045\n",
            "valid_loss = 0.0\n",
            "loss = 0.016743293032050133\n",
            "valid_loss = 0.0\n",
            "loss = 0.020108778029680252\n",
            "valid_loss = 0.0\n",
            "loss = 0.004171966575086117\n",
            "valid_loss = 0.0\n",
            "loss = 0.13854146003723145\n",
            "valid_loss = 0.0\n",
            "loss = 0.004464169964194298\n",
            "valid_loss = 0.0\n",
            "loss = 0.07882346957921982\n",
            "valid_loss = 0.0\n",
            "loss = 0.02381502278149128\n",
            "valid_loss = 0.0\n",
            "loss = 0.0844118669629097\n",
            "valid_loss = 0.0\n",
            "loss = 0.024286940693855286\n",
            "valid_loss = 0.0\n",
            "loss = 0.036707065999507904\n",
            "valid_loss = 0.0\n",
            "loss = 0.3019813001155853\n",
            "valid_loss = 0.0\n",
            "loss = 0.1866280436515808\n",
            "valid_loss = 0.0\n",
            "loss = 0.004536993335932493\n"
          ]
        },
        {
          "output_type": "stream",
          "name": "stderr",
          "text": [
            "/usr/local/lib/python3.10/dist-packages/PIL/Image.py:996: UserWarning: Palette images with Transparency expressed in bytes should be converted to RGBA images\n",
            "  warnings.warn(\n",
            "/usr/local/lib/python3.10/dist-packages/PIL/Image.py:996: UserWarning: Palette images with Transparency expressed in bytes should be converted to RGBA images\n",
            "  warnings.warn(\n"
          ]
        }
      ]
    }
  ]
}