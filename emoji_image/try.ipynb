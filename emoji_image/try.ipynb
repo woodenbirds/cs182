{
 "cells": [
  {
   "cell_type": "code",
   "execution_count": 1,
   "metadata": {},
   "outputs": [
    {
     "ename": "ModuleNotFoundError",
     "evalue": "No module named 'cv2'",
     "output_type": "error",
     "traceback": [
      "\u001b[1;31m---------------------------------------------------------------------------\u001b[0m",
      "\u001b[1;31mModuleNotFoundError\u001b[0m                       Traceback (most recent call last)",
      "\u001b[1;32ms:\\junior\\COMPSCI 182\\Porj\\cs182\\emoji_image\\try.ipynb 单元格 1\u001b[0m line \u001b[0;36m1\n\u001b[0;32m      <a href='vscode-notebook-cell:/s%3A/junior/COMPSCI%20182/Porj/cs182/emoji_image/try.ipynb#W0sZmlsZQ%3D%3D?line=8'>9</a>\u001b[0m \u001b[39mimport\u001b[39;00m \u001b[39mglob\u001b[39;00m\n\u001b[0;32m     <a href='vscode-notebook-cell:/s%3A/junior/COMPSCI%20182/Porj/cs182/emoji_image/try.ipynb#W0sZmlsZQ%3D%3D?line=9'>10</a>\u001b[0m \u001b[39mimport\u001b[39;00m \u001b[39mbase64\u001b[39;00m\n\u001b[1;32m---> <a href='vscode-notebook-cell:/s%3A/junior/COMPSCI%20182/Porj/cs182/emoji_image/try.ipynb#W0sZmlsZQ%3D%3D?line=10'>11</a>\u001b[0m \u001b[39mimport\u001b[39;00m \u001b[39mcv2\u001b[39;00m\n\u001b[0;32m     <a href='vscode-notebook-cell:/s%3A/junior/COMPSCI%20182/Porj/cs182/emoji_image/try.ipynb#W0sZmlsZQ%3D%3D?line=11'>12</a>\u001b[0m \u001b[39mfrom\u001b[39;00m \u001b[39mtorchvision\u001b[39;00m \u001b[39mimport\u001b[39;00m transforms\n\u001b[0;32m     <a href='vscode-notebook-cell:/s%3A/junior/COMPSCI%20182/Porj/cs182/emoji_image/try.ipynb#W0sZmlsZQ%3D%3D?line=13'>14</a>\u001b[0m emoji \u001b[39m=\u001b[39m pd\u001b[39m.\u001b[39mread_csv(\u001b[39m'\u001b[39m\u001b[39m./full_emoji.csv\u001b[39m\u001b[39m'\u001b[39m)\n",
      "\u001b[1;31mModuleNotFoundError\u001b[0m: No module named 'cv2'"
     ]
    }
   ],
   "source": [
    "import numpy as np\n",
    "import pandas as pd\n",
    "import matplotlib as mpl\n",
    "import matplotlib.pyplot as plt\n",
    "\n",
    "from PIL import Image\n",
    "import io\n",
    "import os\n",
    "import glob\n",
    "import base64\n",
    "import cv2\n",
    "from torchvision import transforms\n",
    "\n",
    "emoji = pd.read_csv('./full_emoji.csv')\n",
    "emoji.head()\n",
    "\n",
    "base64_decoded = base64.b64decode(emoji['Google'][0].split(',')[-1])\n",
    "image = Image.open(io.BytesIO(base64_decoded)).convert('RGBA')\n",
    "\n",
    "plt.imshow(image)"
   ]
  }
 ],
 "metadata": {
  "kernelspec": {
   "display_name": "base",
   "language": "python",
   "name": "python3"
  },
  "language_info": {
   "codemirror_mode": {
    "name": "ipython",
    "version": 3
   },
   "file_extension": ".py",
   "mimetype": "text/x-python",
   "name": "python",
   "nbconvert_exporter": "python",
   "pygments_lexer": "ipython3",
   "version": "3.11.4"
  }
 },
 "nbformat": 4,
 "nbformat_minor": 2
}
